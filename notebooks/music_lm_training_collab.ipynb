{
  "nbformat": 4,
  "nbformat_minor": 0,
  "metadata": {
    "colab": {
      "name": "music_lm_training_collab.ipynb",
      "provenance": [],
      "collapsed_sections": [
        "6kpnIxB1JGWQ",
        "8dXFzIUbJEQC",
        "fg8cn_PJInX2",
        "hyewdM5kA8at"
      ],
      "toc_visible": true
    },
    "kernelspec": {
      "name": "python3",
      "display_name": "Python 3"
    },
    "accelerator": "GPU"
  },
  "cells": [
    {
      "cell_type": "markdown",
      "metadata": {
        "id": "IvwownJ9I34e",
        "colab_type": "text"
      },
      "source": [
        "# Use fastai to train on the nottingham dataset using Google colaboratory"
      ]
    },
    {
      "cell_type": "markdown",
      "metadata": {
        "id": "6kpnIxB1JGWQ",
        "colab_type": "text"
      },
      "source": [
        "## Setup: install packages and unzip data"
      ]
    },
    {
      "cell_type": "code",
      "metadata": {
        "id": "zIrnr-tHb7q-",
        "colab_type": "code",
        "colab": {}
      },
      "source": [
        "%%capture\n",
        "!pip install torch torchvision\n",
        "!pip install fastai\n",
        "!pip install music21 matplotlib scipy numpy pyknon"
      ],
      "execution_count": 0,
      "outputs": []
    },
    {
      "cell_type": "code",
      "metadata": {
        "id": "O1qNpd5Vc9Tw",
        "colab_type": "code",
        "colab": {}
      },
      "source": [
        "%%capture\n",
        "!unzip processed_data_merged.zip"
      ],
      "execution_count": 0,
      "outputs": []
    },
    {
      "cell_type": "markdown",
      "metadata": {
        "id": "8dXFzIUbJEQC",
        "colab_type": "text"
      },
      "source": [
        "## Imports"
      ]
    },
    {
      "cell_type": "code",
      "metadata": {
        "id": "u_T3K7Y9cT_u",
        "colab_type": "code",
        "colab": {}
      },
      "source": [
        "from fastai.text import *\n",
        "import argparse\n",
        "import random\n",
        "import os\n",
        "import numpy as np\n",
        "from math import floor\n",
        "from pyknon.genmidi import Midi\n",
        "from pyknon.music import NoteSeq, Note\n",
        "import music21\n",
        "from pathlib import Path\n",
        "from fastai.text.transform import *\n",
        "import torch"
      ],
      "execution_count": 0,
      "outputs": []
    },
    {
      "cell_type": "markdown",
      "metadata": {
        "id": "fg8cn_PJInX2",
        "colab_type": "text"
      },
      "source": [
        "## Functions to decode generated output to music21 stream that can be saved as MIDI file"
      ]
    },
    {
      "cell_type": "code",
      "metadata": {
        "id": "oUbqMD49XVvV",
        "colab_type": "code",
        "colab": {}
      },
      "source": [
        "def decode_chordwise_string(string):\n",
        "  \n",
        "  sample_freqs=[4,12]\n",
        "  note_ranges=[38,62]\n",
        "  note_offsets={}\n",
        "  note_offsets[38]=45\n",
        "  note_offsets[62]=33\n",
        "\n",
        "  sample_freq = sample_freqs[0] # 4\n",
        "  note_range = note_ranges[0]   # 38\n",
        "  note_offset = note_offsets[note_range]\n",
        "  chamber = False\n",
        "  \n",
        "  score = string.split(\" \")\n",
        "  speed = 1. / sample_freq\n",
        "  piano_notes = []\n",
        "  violin_notes = []\n",
        "  time_offset = 0\n",
        "  for i in range(len(score)):\n",
        "      current_chord = score[i]\n",
        "      if len(current_chord) == 0:\n",
        "          print(\"chord len is 0, no note played, continue\")\n",
        "          continue\n",
        "      for j in range(1, len(current_chord)):\n",
        "          if current_chord[j] == \"1\":\n",
        "              duration = 2  # why 2 ???\n",
        "              new_note = music21.note.Note(j + note_offset)    \n",
        "              new_note.duration = music21.duration.Duration(duration * speed)\n",
        "              new_note.offset = (i + time_offset) * speed\n",
        "              if current_chord[0] == 'p':\n",
        "                  piano_notes.append(new_note)\n",
        "              elif current_chord[0] == 'v':\n",
        "                  violin_notes.append(new_note)\n",
        "  violin = music21.instrument.fromString(\"Violin\")\n",
        "  piano = music21.instrument.fromString(\"Piano\")\n",
        "  violin_notes.insert(0, violin)\n",
        "  piano_notes.insert(0, piano)\n",
        "  violin_stream = music21.stream.Stream(violin_notes)\n",
        "  piano_stream = music21.stream.Stream(piano_notes)\n",
        "  main_stream = music21.stream.Stream([violin_stream, piano_stream])\n",
        "  return main_stream"
      ],
      "execution_count": 0,
      "outputs": []
    },
    {
      "cell_type": "code",
      "metadata": {
        "id": "N1Q0jtY2_Ifw",
        "colab_type": "code",
        "colab": {}
      },
      "source": [
        "def decode_notewise_string(string):\n",
        "    \n",
        "    score = string.split(\" \")\n",
        "    \n",
        "    sample_freqs=[4,12]\n",
        "    note_ranges=[38,62]\n",
        "    note_offsets={}\n",
        "    note_offsets[38]=45\n",
        "    note_offsets[62]=33\n",
        "\n",
        "    sample_freq = sample_freqs[0] # 4\n",
        "    note_range = note_ranges[0]   # 38\n",
        "    note_offset = note_offsets[note_range]\n",
        "    chamber = False\n",
        "    \n",
        "    speed = 1./sample_freq\n",
        "    piano_notes = []\n",
        "    violin_notes = []\n",
        "    time_offset = 0\n",
        "    i = 0\n",
        "    while i < len(score):\n",
        "        if score[i][:9] == \"p_octave_\":\n",
        "            add_wait = \"\"\n",
        "            if score[i][-3:] == \"eoc\":\n",
        "                add_wait = \"eoc\"\n",
        "                score[i] = score[i][:-3]\n",
        "            this_note = score[i][9:]\n",
        "            score[i] = \"p\" + this_note\n",
        "            score.insert(i + 1, \"p\" + str(int(this_note) + 12) + add_wait)\n",
        "            i += 1\n",
        "        i += 1\n",
        "    for i in range(len(score)):\n",
        "        if score[i] in [\"\", \" \", \"<eos>\", \"<unk>\"]:\n",
        "            continue\n",
        "        elif score[i][:3] == \"end\":\n",
        "            if score[i][-3:] == \"eoc\":\n",
        "                time_offset += 1\n",
        "            continue\n",
        "        elif score[i][:4] == \"wait\":\n",
        "            time_offset += int(score[i][4:])\n",
        "            continue\n",
        "        else:\n",
        "            duration = 1\n",
        "            has_end = False\n",
        "            note_string_len = len(score[i])\n",
        "            for j in range(1,200):\n",
        "                if i + j == len(score):\n",
        "                    break\n",
        "                if score[i + j][:4] ==\" wait\":\n",
        "                    duration += int(score[i + j][4:])\n",
        "                if score[i + j][:3 + note_string_len] == \"end\" + score[i] or score[i + j][:note_string_len] == score[i]:\n",
        "                    has_end = True\n",
        "                    break\n",
        "                if score[i + j][-3:] == \"eoc\":\n",
        "                    duration += 1\n",
        "            if not has_end:\n",
        "                duration = 12\n",
        "            add_wait = 0\n",
        "            if score[i][-3:] == \"eoc\":\n",
        "                score[i] = score[i][:-3]\n",
        "                add_wait = 1\n",
        "            try: \n",
        "                new_note = music21.note.Note(int(score[i][1:]) + note_offset)    \n",
        "                new_note.duration = music21.duration.Duration(duration * speed)\n",
        "                new_note.offset = time_offset * speed\n",
        "                if score[i][0] == \"v\":\n",
        "                    violin_notes.append(new_note)\n",
        "                else:\n",
        "                    piano_notes.append(new_note)\n",
        "            except:\n",
        "                print(\"Unknown note: \" + score[i])           \n",
        "            time_offset += add_wait\n",
        "    violin = music21.instrument.fromString(\"Violin\")\n",
        "    piano = music21.instrument.fromString(\"Piano\")\n",
        "    violin_notes.insert(0, violin)\n",
        "    piano_notes.insert(0, piano)\n",
        "    violin_stream = music21.stream.Stream(violin_notes)\n",
        "    piano_stream = music21.stream.Stream(piano_notes)\n",
        "    main_stream = music21.stream.Stream([violin_stream, piano_stream])\n",
        "    return main_stream"
      ],
      "execution_count": 0,
      "outputs": []
    },
    {
      "cell_type": "markdown",
      "metadata": {
        "id": "hyewdM5kA8at",
        "colab_type": "text"
      },
      "source": [
        "## Helper methods"
      ]
    },
    {
      "cell_type": "code",
      "metadata": {
        "id": "txxLdy2gbo0q",
        "colab_type": "code",
        "colab": {}
      },
      "source": [
        "# remove all rules from tokenizer so that\n",
        "# the only thing it does is split by spaces\n",
        "# for tokenizer behavior see https://docs.fast.ai/text.transform.html#Tokenizer\n",
        "tok = Tokenizer(pre_rules=[], post_rules=[], special_cases=[])"
      ],
      "execution_count": 0,
      "outputs": []
    },
    {
      "cell_type": "code",
      "metadata": {
        "id": "Q1-1H9x-U17m",
        "colab_type": "code",
        "colab": {}
      },
      "source": [
        "# create databunch\n",
        "# min_frwq = 1 because we don't want any word dropped, our\n",
        "## vocab is not that big\n",
        "# include_bos is unnessesary, since we will only ever generate on\n",
        "## sequence (song) at a time\n",
        "def create_default_databunch(data_path):\n",
        "    return TextLMDataBunch.from_folder(\n",
        "        path=data_path, \n",
        "        train=\"train\", \n",
        "        valid=\"valid\",\n",
        "        test=\"test\", \n",
        "        min_freq=1,\n",
        "#         bptt=70,\n",
        "        tokenizer=tok, \n",
        "        include_bos=False\n",
        "    )"
      ],
      "execution_count": 0,
      "outputs": []
    },
    {
      "cell_type": "markdown",
      "metadata": {
        "id": "tAKR-menJW3r",
        "colab_type": "text"
      },
      "source": [
        "## Train a chordwise language model"
      ]
    },
    {
      "cell_type": "code",
      "metadata": {
        "id": "qjRBTLKEc4dP",
        "colab_type": "code",
        "colab": {}
      },
      "source": [
        "data_path_chordwise = \"processed_data/chordwise\""
      ],
      "execution_count": 0,
      "outputs": []
    },
    {
      "cell_type": "code",
      "metadata": {
        "id": "uShMcp7uBKXc",
        "colab_type": "code",
        "colab": {}
      },
      "source": [
        "config = awd_lstm_lm_config.copy()\n",
        "config"
      ],
      "execution_count": 0,
      "outputs": []
    },
    {
      "cell_type": "code",
      "metadata": {
        "id": "jHeWLmyEBLc_",
        "colab_type": "code",
        "colab": {}
      },
      "source": [
        "chordwise_databunch = create_default_databunch(data_path=data_path_chordwise)\n",
        "# save databunch to avoid having to do it again\n",
        "## (time intense for large datasets)\n",
        "chordwise_databunch.save(\"/content/chordwise_databunch_export.pkl\")"
      ],
      "execution_count": 0,
      "outputs": []
    },
    {
      "cell_type": "code",
      "metadata": {
        "id": "JkgTbvwpLLsI",
        "colab_type": "code",
        "colab": {}
      },
      "source": [
        "chordwise_databunch = TextLMDataBunch.load(\"/content/chordwise_databunch_export.pkl\")"
      ],
      "execution_count": 0,
      "outputs": []
    },
    {
      "cell_type": "code",
      "metadata": {
        "id": "MjqdoL1aBjd7",
        "colab_type": "code",
        "colab": {}
      },
      "source": [
        "chordwise_databunch.show_batch()"
      ],
      "execution_count": 0,
      "outputs": []
    },
    {
      "cell_type": "code",
      "metadata": {
        "id": "oP2fuLh7Bw-V",
        "colab_type": "code",
        "colab": {}
      },
      "source": [
        "learner_chordwise = language_model_learner(chordwise_databunch, arch=AWD_LSTM , config=config)"
      ],
      "execution_count": 0,
      "outputs": []
    },
    {
      "cell_type": "code",
      "metadata": {
        "id": "zj6hYiFJCLpb",
        "colab_type": "code",
        "colab": {
          "base_uri": "https://localhost:8080/",
          "height": 298
        },
        "outputId": "1a4f72de-d03f-47c6-a37e-5d4371eb10fe"
      },
      "source": [
        "# find best lr and show plot\n",
        "learner_chordwise.lr_find()\n",
        "learner_chordwise.recorder.plot()"
      ],
      "execution_count": 31,
      "outputs": [
        {
          "output_type": "display_data",
          "data": {
            "text/html": [
              ""
            ],
            "text/plain": [
              "<IPython.core.display.HTML object>"
            ]
          },
          "metadata": {
            "tags": []
          }
        },
        {
          "output_type": "stream",
          "text": [
            "LR Finder is complete, type {learner_name}.recorder.plot() to see the graph.\n"
          ],
          "name": "stdout"
        },
        {
          "output_type": "display_data",
          "data": {
            "image/png": "[encoded data removed]",
            "text/plain": [
              "<Figure size 432x288 with 1 Axes>"
            ]
          },
          "metadata": {
            "tags": [],
            "image/png": {
              "width": 393,
              "height": 264
            }
          }
        }
      ]
    },
    {
      "cell_type": "code",
      "metadata": {
        "id": "MT-UiypCB7Tf",
        "colab_type": "code",
        "colab": {
          "base_uri": "https://localhost:8080/",
          "height": 112
        },
        "outputId": "82be8b3d-9da5-417d-f763-054d51a2e710"
      },
      "source": [
        "# run training\n",
        "# See https://docs.fast.ai/callbacks.one_cycle.html#What-is-1cycle?\n",
        "# https://forums.fast.ai/t/why-do-we-need-to-unfreeze-the-learner-everytime-before-retarining-even-if-learn-fit-one-cycle-works-fine-without-learn-unfreeze/41614/5\n",
        "learner_chordwise.fit_one_cycle(2, 1e-01)"
      ],
      "execution_count": 32,
      "outputs": [
        {
          "output_type": "display_data",
          "data": {
            "text/html": [
              "<table border=\"1\" class=\"dataframe\">\n",
              "  <thead>\n",
              "    <tr style=\"text-align: left;\">\n",
              "      <th>epoch</th>\n",
              "      <th>train_loss</th>\n",
              "      <th>valid_loss</th>\n",
              "      <th>accuracy</th>\n",
              "      <th>time</th>\n",
              "    </tr>\n",
              "  </thead>\n",
              "  <tbody>\n",
              "    <tr>\n",
              "      <td>0</td>\n",
              "      <td>3.619758</td>\n",
              "      <td>2.886094</td>\n",
              "      <td>0.416614</td>\n",
              "      <td>15:10</td>\n",
              "    </tr>\n",
              "    <tr>\n",
              "      <td>1</td>\n",
              "      <td>2.947350</td>\n",
              "      <td>2.518893</td>\n",
              "      <td>0.443329</td>\n",
              "      <td>15:23</td>\n",
              "    </tr>\n",
              "  </tbody>\n",
              "</table>"
            ],
            "text/plain": [
              "<IPython.core.display.HTML object>"
            ]
          },
          "metadata": {
            "tags": []
          }
        }
      ]
    },
    {
      "cell_type": "code",
      "metadata": {
        "id": "-Vt316IEE9nV",
        "colab_type": "code",
        "colab": {
          "base_uri": "https://localhost:8080/",
          "height": 95
        },
        "outputId": "31d3ff28-23de-425c-e57d-17df13e738b8"
      },
      "source": [
        "learner_chordwise.fit_one_cycle(10, 1e-01)"
      ],
      "execution_count": 0,
      "outputs": [
        {
          "output_type": "display_data",
          "data": {
            "text/html": [
              "\n",
              "    <div>\n",
              "        <style>\n",
              "            /* Turns off some styling */\n",
              "            progress {\n",
              "                /* gets rid of default border in Firefox and Opera. */\n",
              "                border: none;\n",
              "                /* Needs to be in here for Safari polyfill so background images work as expected. */\n",
              "                background-size: auto;\n",
              "            }\n",
              "            .progress-bar-interrupted, .progress-bar-interrupted::-webkit-progress-bar {\n",
              "                background: #F44336;\n",
              "            }\n",
              "        </style>\n",
              "      <progress value='0' class='' max='10', style='width:300px; height:20px; vertical-align: middle;'></progress>\n",
              "      0.00% [0/10 00:00<00:00]\n",
              "    </div>\n",
              "    \n",
              "<table border=\"1\" class=\"dataframe\">\n",
              "  <thead>\n",
              "    <tr style=\"text-align: left;\">\n",
              "      <th>epoch</th>\n",
              "      <th>train_loss</th>\n",
              "      <th>valid_loss</th>\n",
              "      <th>accuracy</th>\n",
              "      <th>time</th>\n",
              "    </tr>\n",
              "  </thead>\n",
              "  <tbody>\n",
              "  </tbody>\n",
              "</table><p>\n",
              "\n",
              "    <div>\n",
              "        <style>\n",
              "            /* Turns off some styling */\n",
              "            progress {\n",
              "                /* gets rid of default border in Firefox and Opera. */\n",
              "                border: none;\n",
              "                /* Needs to be in here for Safari polyfill so background images work as expected. */\n",
              "                background-size: auto;\n",
              "            }\n",
              "            .progress-bar-interrupted, .progress-bar-interrupted::-webkit-progress-bar {\n",
              "                background: #F44336;\n",
              "            }\n",
              "        </style>\n",
              "      <progress value='973' class='' max='1545', style='width:300px; height:20px; vertical-align: middle;'></progress>\n",
              "      62.98% [973/1545 08:55<05:14 2.9180]\n",
              "    </div>\n",
              "    "
            ],
            "text/plain": [
              "<IPython.core.display.HTML object>"
            ]
          },
          "metadata": {
            "tags": []
          }
        }
      ]
    },
    {
      "cell_type": "code",
      "metadata": {
        "id": "cBF-SwVyOl5B",
        "colab_type": "code",
        "colab": {}
      },
      "source": [
        "# generate a sequence\n",
        "\n",
        "fname = \"chordwise_model_v3\"\n",
        "\n",
        "gen = learner_chordwise.predict(text=\"p00000000000000000000000000100000000000\", n_words=200, temperature=0.8)\n",
        "stream = decode_chordwise_string(gen)\n",
        "decoded_notes_file = stream.write('midi', f'{fname}_1.mid')"
      ],
      "execution_count": 0,
      "outputs": []
    },
    {
      "cell_type": "code",
      "metadata": {
        "id": "hGvuDk50B740",
        "colab_type": "code",
        "colab": {}
      },
      "source": [
        "pred1 = learner_chordwise.predict(\"p00000000000000000000000000100000000000\", 400)\n",
        "pred2 = learner_chordwise.predict(\"\", 400)"
      ],
      "execution_count": 0,
      "outputs": []
    },
    {
      "cell_type": "code",
      "metadata": {
        "id": "EIY3kMr9B-gs",
        "colab_type": "code",
        "colab": {}
      },
      "source": [
        "pred1"
      ],
      "execution_count": 0,
      "outputs": []
    },
    {
      "cell_type": "code",
      "metadata": {
        "id": "k1XrTdODEP1i",
        "colab_type": "code",
        "colab": {}
      },
      "source": [
        "learner_chordwise = LanguageLearner.load(f\"/content/{fname}\")"
      ],
      "execution_count": 0,
      "outputs": []
    },
    {
      "cell_type": "code",
      "metadata": {
        "id": "ooMXdHKOCDEg",
        "colab_type": "code",
        "colab": {}
      },
      "source": [
        "# save learned model\n",
        "fname = \"chordwise_model_v3\"\n",
        "\n",
        "desc = f\"chordwise, 8 epochs, 0.747563 acc, n_hid=1152(default), 3 layers (default), pretrained weights: True (default), dropout_mult=1.0(default)\"\n",
        "desc += f\"\\nepoch     lr         acc         weights\"\n",
        "desc += f\"\\n1         1e-01                  frozen\"\n",
        "desc += f\"\\n2         1e-03                  unfrozen\"\n",
        "desc += f\"\\n3         1e-03      0.717734    unfrozen\"\n",
        "desc += f\"\\n4         1e-03      0.732792    frozen\"\n",
        "desc += f\"\\n5         1e-02      0.733366    frozen\"\n",
        "desc += f\"\\n6         1e-02      0.740686    unfrozen\"\n",
        "desc += f\"\\n7         1e-03      0.746206    unfrozen\"\n",
        "desc += f\"\\n8         1e-03      0.747563    unfrozen\"\n",
        "desc += f\"\\n9         1e-03      0.748488    frozen\"\n",
        "\n",
        "learner_chordwise.save(f\"/content/{fname}\")\n",
        "\n",
        "with open(f\"{fname}.txt\", \"w\") as f:\n",
        "    f.write(desc)"
      ],
      "execution_count": 0,
      "outputs": []
    },
    {
      "cell_type": "markdown",
      "metadata": {
        "id": "e6tADXiSVlbu",
        "colab_type": "text"
      },
      "source": [
        "## Train a notewise language model"
      ]
    },
    {
      "cell_type": "code",
      "metadata": {
        "colab_type": "code",
        "id": "tjYMSdNnVvQx",
        "colab": {}
      },
      "source": [
        "data_path_notewise = \"processed_data/notewise\""
      ],
      "execution_count": 0,
      "outputs": []
    },
    {
      "cell_type": "code",
      "metadata": {
        "colab_type": "code",
        "id": "X5EPwapqVvQ8",
        "colab": {}
      },
      "source": [
        "config = awd_lstm_lm_config.copy()\n",
        "config"
      ],
      "execution_count": 0,
      "outputs": []
    },
    {
      "cell_type": "code",
      "metadata": {
        "colab_type": "code",
        "id": "kQI9nOhfVvRD",
        "colab": {}
      },
      "source": [
        "notewise_databunch = create_default_databunch(data_path=data_path_notewise)\n",
        "# save databunch to avoid having to do it again\n",
        "## (time intense for large datasets)\n",
        "notewise_databunch.save(\"/content/notewise_databunch_export.pkl\")"
      ],
      "execution_count": 0,
      "outputs": []
    },
    {
      "cell_type": "code",
      "metadata": {
        "colab_type": "code",
        "id": "bYJd3gibVvRK",
        "colab": {}
      },
      "source": [
        "notewise_databunch = TextLMDataBunch.load(\"/content/notewise_databunch_export.pkl\")"
      ],
      "execution_count": 0,
      "outputs": []
    },
    {
      "cell_type": "code",
      "metadata": {
        "colab_type": "code",
        "id": "QQiw8nXkVvRR",
        "colab": {}
      },
      "source": [
        "notewise_databunch.show_batch()"
      ],
      "execution_count": 0,
      "outputs": []
    },
    {
      "cell_type": "code",
      "metadata": {
        "colab_type": "code",
        "id": "L50ZIVz0VvRY",
        "colab": {}
      },
      "source": [
        "learner_notewise = language_model_learner(notewise_databunch, arch=AWD_LSTM , config=config)"
      ],
      "execution_count": 0,
      "outputs": []
    },
    {
      "cell_type": "code",
      "metadata": {
        "colab_type": "code",
        "outputId": "1a4f72de-d03f-47c6-a37e-5d4371eb10fe",
        "id": "MpX2bIMdVvRd",
        "colab": {
          "base_uri": "https://localhost:8080/",
          "height": 298
        }
      },
      "source": [
        "# find best lr and show plot\n",
        "learner_notewise.lr_find()\n",
        "learner_notewise.recorder.plot()"
      ],
      "execution_count": 0,
      "outputs": [
        {
          "output_type": "display_data",
          "data": {
            "text/html": [
              ""
            ],
            "text/plain": [
              "<IPython.core.display.HTML object>"
            ]
          },
          "metadata": {
            "tags": []
          }
        },
        {
          "output_type": "stream",
          "text": [
            "LR Finder is complete, type {learner_name}.recorder.plot() to see the graph.\n"
          ],
          "name": "stdout"
        },
        {
          "output_type": "display_data",
          "data": {
            "image/png": "[encoded data removed]",
            "text/plain": [
              "<Figure size 432x288 with 1 Axes>"
            ]
          },
          "metadata": {
            "tags": [],
            "image/png": {
              "width": 393,
              "height": 264
            }
          }
        }
      ]
    },
    {
      "cell_type": "code",
      "metadata": {
        "colab_type": "code",
        "outputId": "82be8b3d-9da5-417d-f763-054d51a2e710",
        "id": "BmdlP3BsVvRj",
        "colab": {
          "base_uri": "https://localhost:8080/",
          "height": 112
        }
      },
      "source": [
        "# run training\n",
        "# See https://docs.fast.ai/callbacks.one_cycle.html#What-is-1cycle?\n",
        "# https://forums.fast.ai/t/why-do-we-need-to-unfreeze-the-learner-everytime-before-retarining-even-if-learn-fit-one-cycle-works-fine-without-learn-unfreeze/41614/5\n",
        "learner_notewise.fit_one_cycle(2, 1e-01)"
      ],
      "execution_count": 0,
      "outputs": [
        {
          "output_type": "display_data",
          "data": {
            "text/html": [
              "<table border=\"1\" class=\"dataframe\">\n",
              "  <thead>\n",
              "    <tr style=\"text-align: left;\">\n",
              "      <th>epoch</th>\n",
              "      <th>train_loss</th>\n",
              "      <th>valid_loss</th>\n",
              "      <th>accuracy</th>\n",
              "      <th>time</th>\n",
              "    </tr>\n",
              "  </thead>\n",
              "  <tbody>\n",
              "    <tr>\n",
              "      <td>0</td>\n",
              "      <td>3.619758</td>\n",
              "      <td>2.886094</td>\n",
              "      <td>0.416614</td>\n",
              "      <td>15:10</td>\n",
              "    </tr>\n",
              "    <tr>\n",
              "      <td>1</td>\n",
              "      <td>2.947350</td>\n",
              "      <td>2.518893</td>\n",
              "      <td>0.443329</td>\n",
              "      <td>15:23</td>\n",
              "    </tr>\n",
              "  </tbody>\n",
              "</table>"
            ],
            "text/plain": [
              "<IPython.core.display.HTML object>"
            ]
          },
          "metadata": {
            "tags": []
          }
        }
      ]
    },
    {
      "cell_type": "code",
      "metadata": {
        "colab_type": "code",
        "outputId": "31d3ff28-23de-425c-e57d-17df13e738b8",
        "id": "ZUdU9NzeVvRp",
        "colab": {
          "base_uri": "https://localhost:8080/",
          "height": 95
        }
      },
      "source": [
        "learner_notewise.fit_one_cycle(10, 1e-01)"
      ],
      "execution_count": 0,
      "outputs": [
        {
          "output_type": "display_data",
          "data": {
            "text/html": [
              "\n",
              "    <div>\n",
              "        <style>\n",
              "            /* Turns off some styling */\n",
              "            progress {\n",
              "                /* gets rid of default border in Firefox and Opera. */\n",
              "                border: none;\n",
              "                /* Needs to be in here for Safari polyfill so background images work as expected. */\n",
              "                background-size: auto;\n",
              "            }\n",
              "            .progress-bar-interrupted, .progress-bar-interrupted::-webkit-progress-bar {\n",
              "                background: #F44336;\n",
              "            }\n",
              "        </style>\n",
              "      <progress value='0' class='' max='10', style='width:300px; height:20px; vertical-align: middle;'></progress>\n",
              "      0.00% [0/10 00:00<00:00]\n",
              "    </div>\n",
              "    \n",
              "<table border=\"1\" class=\"dataframe\">\n",
              "  <thead>\n",
              "    <tr style=\"text-align: left;\">\n",
              "      <th>epoch</th>\n",
              "      <th>train_loss</th>\n",
              "      <th>valid_loss</th>\n",
              "      <th>accuracy</th>\n",
              "      <th>time</th>\n",
              "    </tr>\n",
              "  </thead>\n",
              "  <tbody>\n",
              "  </tbody>\n",
              "</table><p>\n",
              "\n",
              "    <div>\n",
              "        <style>\n",
              "            /* Turns off some styling */\n",
              "            progress {\n",
              "                /* gets rid of default border in Firefox and Opera. */\n",
              "                border: none;\n",
              "                /* Needs to be in here for Safari polyfill so background images work as expected. */\n",
              "                background-size: auto;\n",
              "            }\n",
              "            .progress-bar-interrupted, .progress-bar-interrupted::-webkit-progress-bar {\n",
              "                background: #F44336;\n",
              "            }\n",
              "        </style>\n",
              "      <progress value='549' class='' max='1545', style='width:300px; height:20px; vertical-align: middle;'></progress>\n",
              "      35.53% [549/1545 05:02<09:08 3.3374]\n",
              "    </div>\n",
              "    "
            ],
            "text/plain": [
              "<IPython.core.display.HTML object>"
            ]
          },
          "metadata": {
            "tags": []
          }
        }
      ]
    },
    {
      "cell_type": "code",
      "metadata": {
        "colab_type": "code",
        "id": "hpSxxqd_VvRx",
        "colab": {}
      },
      "source": [
        "# generate a sequence\n",
        "\n",
        "fname = \"notewise_model_v3\"\n",
        "\n",
        "gen = learner_notewise.predict(text=\"wait1\", n_words=800, temperature=0.8)\n",
        "stream = decode_chordwise_string(gen)\n",
        "decoded_notes_file = stream.write('midi', f'{fname}_1.mid')"
      ],
      "execution_count": 0,
      "outputs": []
    },
    {
      "cell_type": "code",
      "metadata": {
        "colab_type": "code",
        "id": "ERDHfDazVvR4",
        "colab": {}
      },
      "source": [
        "pred1 = learner_notewise.predict(\"p00000000000000000000000000100000000000\", 400)\n",
        "pred2 = learner_notewise.predict(\"\", 400)"
      ],
      "execution_count": 0,
      "outputs": []
    },
    {
      "cell_type": "code",
      "metadata": {
        "colab_type": "code",
        "id": "hNNbQnh1VvR9",
        "colab": {}
      },
      "source": [
        "pred1"
      ],
      "execution_count": 0,
      "outputs": []
    },
    {
      "cell_type": "code",
      "metadata": {
        "colab_type": "code",
        "id": "bJc_792qVvSC",
        "colab": {}
      },
      "source": [
        "learner_notewise = LanguageLearner.load(f\"/content/{fname}\")"
      ],
      "execution_count": 0,
      "outputs": []
    },
    {
      "cell_type": "code",
      "metadata": {
        "colab_type": "code",
        "id": "syLbUEiIVvSI",
        "colab": {}
      },
      "source": [
        "# save learned model\n",
        "\n",
        "desc = f\"notewise, 8 epochs, 0.747563 acc, n_hid=1152(default), 3 layers (default), pretrained weights: True (default), dropout_mult=1.0(default)\"\n",
        "desc += f\"\\nepoch     lr         acc         weights\"\n",
        "desc += f\"\\n1         1e-01                  frozen\"\n",
        "desc += f\"\\n2         1e-03                  unfrozen\"\n",
        "desc += f\"\\n3         1e-03      0.717734    unfrozen\"\n",
        "desc += f\"\\n4         1e-03      0.732792    frozen\"\n",
        "desc += f\"\\n5         1e-02      0.733366    frozen\"\n",
        "desc += f\"\\n6         1e-02      0.740686    unfrozen\"\n",
        "desc += f\"\\n7         1e-03      0.746206    unfrozen\"\n",
        "desc += f\"\\n8         1e-03      0.747563    unfrozen\"\n",
        "desc += f\"\\n9         1e-03      0.748488    frozen\"\n",
        "\n",
        "learner_notewise.save(f\"/content/{fname}\")\n",
        "\n",
        "with open(f\"{fname}.txt\", \"w\") as f:\n",
        "    f.write(desc)"
      ],
      "execution_count": 0,
      "outputs": []
    }
  ]
}