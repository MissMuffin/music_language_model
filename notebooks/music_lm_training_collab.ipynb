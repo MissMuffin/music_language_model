{
  "nbformat": 4,
  "nbformat_minor": 0,
  "metadata": {
    "colab": {
      "name": "music_lm_training_collab.ipynb",
      "provenance": [],
      "collapsed_sections": [
        "6kpnIxB1JGWQ",
        "8dXFzIUbJEQC",
        "fg8cn_PJInX2",
        "hyewdM5kA8at"
      ],
      "toc_visible": true
    },
    "kernelspec": {
      "name": "python3",
      "display_name": "Python 3"
    },
    "accelerator": "GPU"
  },
  "cells": [
    {
      "cell_type": "markdown",
      "metadata": {
        "id": "IvwownJ9I34e",
        "colab_type": "text"
      },
      "source": [
        "# Use fastai to train on the nottingham dataset using Google colaboratory"
      ]
    },
    {
      "cell_type": "markdown",
      "metadata": {
        "id": "6kpnIxB1JGWQ",
        "colab_type": "text"
      },
      "source": [
        "## Setup: install packages and unzip data"
      ]
    },
    {
      "cell_type": "code",
      "metadata": {
        "id": "zIrnr-tHb7q-",
        "colab_type": "code",
        "colab": {}
      },
      "source": [
        "%%capture\n",
        "!pip install torch torchvision\n",
        "!pip install fastai\n",
        "!pip install music21 matplotlib scipy numpy pyknon"
      ],
      "execution_count": 0,
      "outputs": []
    },
    {
      "cell_type": "code",
      "metadata": {
        "id": "O1qNpd5Vc9Tw",
        "colab_type": "code",
        "colab": {}
      },
      "source": [
        "%%capture\n",
        "!unzip processed_data_merged.zip"
      ],
      "execution_count": 0,
      "outputs": []
    },
    {
      "cell_type": "markdown",
      "metadata": {
        "id": "8dXFzIUbJEQC",
        "colab_type": "text"
      },
      "source": [
        "## Imports"
      ]
    },
    {
      "cell_type": "code",
      "metadata": {
        "id": "u_T3K7Y9cT_u",
        "colab_type": "code",
        "colab": {}
      },
      "source": [
        "from fastai.text import *\n",
        "import argparse\n",
        "import random\n",
        "import os\n",
        "import numpy as np\n",
        "from math import floor\n",
        "from pyknon.genmidi import Midi\n",
        "from pyknon.music import NoteSeq, Note\n",
        "import music21\n",
        "from pathlib import Path\n",
        "from fastai.text.transform import *\n",
        "import torch\n",
        "from google.colab import files"
      ],
      "execution_count": 0,
      "outputs": []
    },
    {
      "cell_type": "markdown",
      "metadata": {
        "id": "fg8cn_PJInX2",
        "colab_type": "text"
      },
      "source": [
        "## Functions to decode generated output to music21 stream that can be saved as MIDI file"
      ]
    },
    {
      "cell_type": "code",
      "metadata": {
        "id": "oUbqMD49XVvV",
        "colab_type": "code",
        "colab": {}
      },
      "source": [
        "def decode_chordwise_string(string):\n",
        "  \n",
        "  sample_freqs=[4,12]\n",
        "  note_ranges=[38,62]\n",
        "  note_offsets={}\n",
        "  note_offsets[38]=45\n",
        "  note_offsets[62]=33\n",
        "\n",
        "  sample_freq = sample_freqs[0] # 4\n",
        "  note_range = note_ranges[0]   # 38\n",
        "  note_offset = note_offsets[note_range]\n",
        "  chamber = False\n",
        "  \n",
        "  score = string.split(\" \")\n",
        "  speed = 1. / sample_freq\n",
        "  piano_notes = []\n",
        "  violin_notes = []\n",
        "  time_offset = 0\n",
        "  for i in range(len(score)):\n",
        "      current_chord = score[i]\n",
        "      if len(current_chord) == 0:\n",
        "          print(\"chord len is 0, no note played, continue\")\n",
        "          continue\n",
        "      for j in range(1, len(current_chord)):\n",
        "          if current_chord[j] == \"1\":\n",
        "              duration = 2  # why 2 ???\n",
        "              new_note = music21.note.Note(j + note_offset)    \n",
        "              new_note.duration = music21.duration.Duration(duration * speed)\n",
        "              new_note.offset = (i + time_offset) * speed\n",
        "              if current_chord[0] == 'p':\n",
        "                  piano_notes.append(new_note)\n",
        "              elif current_chord[0] == 'v':\n",
        "                  violin_notes.append(new_note)\n",
        "  violin = music21.instrument.fromString(\"Violin\")\n",
        "  piano = music21.instrument.fromString(\"Piano\")\n",
        "  violin_notes.insert(0, violin)\n",
        "  piano_notes.insert(0, piano)\n",
        "  violin_stream = music21.stream.Stream(violin_notes)\n",
        "  piano_stream = music21.stream.Stream(piano_notes)\n",
        "  main_stream = music21.stream.Stream([violin_stream, piano_stream])\n",
        "  return main_stream"
      ],
      "execution_count": 0,
      "outputs": []
    },
    {
      "cell_type": "code",
      "metadata": {
        "id": "N1Q0jtY2_Ifw",
        "colab_type": "code",
        "colab": {}
      },
      "source": [
        "def decode_notewise_string(string):\n",
        "    \n",
        "    score = string.split(\" \")\n",
        "    \n",
        "    sample_freqs=[4,12]\n",
        "    note_ranges=[38,62]\n",
        "    note_offsets={}\n",
        "    note_offsets[38]=45\n",
        "    note_offsets[62]=33\n",
        "\n",
        "    sample_freq = sample_freqs[0] # 4\n",
        "    note_range = note_ranges[0]   # 38\n",
        "    note_offset = note_offsets[note_range]\n",
        "    chamber = False\n",
        "    \n",
        "    speed = 1./sample_freq\n",
        "    piano_notes = []\n",
        "    violin_notes = []\n",
        "    time_offset = 0\n",
        "    i = 0\n",
        "    while i < len(score):\n",
        "        if score[i][:9] == \"p_octave_\":\n",
        "            add_wait = \"\"\n",
        "            if score[i][-3:] == \"eoc\":\n",
        "                add_wait = \"eoc\"\n",
        "                score[i] = score[i][:-3]\n",
        "            this_note = score[i][9:]\n",
        "            score[i] = \"p\" + this_note\n",
        "            score.insert(i + 1, \"p\" + str(int(this_note) + 12) + add_wait)\n",
        "            i += 1\n",
        "        i += 1\n",
        "    for i in range(len(score)):\n",
        "        if score[i] in [\"\", \" \", \"<eos>\", \"<unk>\"]:\n",
        "            continue\n",
        "        elif score[i][:3] == \"end\":\n",
        "            if score[i][-3:] == \"eoc\":\n",
        "                time_offset += 1\n",
        "            continue\n",
        "        elif score[i][:4] == \"wait\":\n",
        "            time_offset += int(score[i][4:])\n",
        "            continue\n",
        "        else:\n",
        "            duration = 1\n",
        "            has_end = False\n",
        "            note_string_len = len(score[i])\n",
        "            for j in range(1,200):\n",
        "                if i + j == len(score):\n",
        "                    break\n",
        "                if score[i + j][:4] ==\" wait\":\n",
        "                    duration += int(score[i + j][4:])\n",
        "                if score[i + j][:3 + note_string_len] == \"end\" + score[i] or score[i + j][:note_string_len] == score[i]:\n",
        "                    has_end = True\n",
        "                    break\n",
        "                if score[i + j][-3:] == \"eoc\":\n",
        "                    duration += 1\n",
        "            if not has_end:\n",
        "                duration = 12\n",
        "            add_wait = 0\n",
        "            if score[i][-3:] == \"eoc\":\n",
        "                score[i] = score[i][:-3]\n",
        "                add_wait = 1\n",
        "            try: \n",
        "                new_note = music21.note.Note(int(score[i][1:]) + note_offset)    \n",
        "                new_note.duration = music21.duration.Duration(duration * speed)\n",
        "                new_note.offset = time_offset * speed\n",
        "                if score[i][0] == \"v\":\n",
        "                    violin_notes.append(new_note)\n",
        "                else:\n",
        "                    piano_notes.append(new_note)\n",
        "            except:\n",
        "                print(\"Unknown note: \" + score[i])           \n",
        "            time_offset += add_wait\n",
        "    violin = music21.instrument.fromString(\"Violin\")\n",
        "    piano = music21.instrument.fromString(\"Piano\")\n",
        "    violin_notes.insert(0, violin)\n",
        "    piano_notes.insert(0, piano)\n",
        "    violin_stream = music21.stream.Stream(violin_notes)\n",
        "    piano_stream = music21.stream.Stream(piano_notes)\n",
        "    main_stream = music21.stream.Stream([violin_stream, piano_stream])\n",
        "    return main_stream"
      ],
      "execution_count": 0,
      "outputs": []
    },
    {
      "cell_type": "markdown",
      "metadata": {
        "id": "hyewdM5kA8at",
        "colab_type": "text"
      },
      "source": [
        "## Helper methods"
      ]
    },
    {
      "cell_type": "code",
      "metadata": {
        "id": "txxLdy2gbo0q",
        "colab_type": "code",
        "colab": {}
      },
      "source": [
        "# remove all rules from tokenizer so that\n",
        "# the only thing it does is split by spaces\n",
        "# for tokenizer behavior see https://docs.fast.ai/text.transform.html#Tokenizer\n",
        "tok = Tokenizer(pre_rules=[], post_rules=[], special_cases=[])"
      ],
      "execution_count": 0,
      "outputs": []
    },
    {
      "cell_type": "code",
      "metadata": {
        "id": "Q1-1H9x-U17m",
        "colab_type": "code",
        "colab": {}
      },
      "source": [
        "# create databunch\n",
        "# min_frwq = 1 because we don't want any word dropped, our\n",
        "## vocab is not that big\n",
        "# include_bos is unnessesary, since we will only ever generate on\n",
        "## sequence (song) at a time\n",
        "def create_default_databunch(data_path):\n",
        "    return TextLMDataBunch.from_folder(\n",
        "        path=data_path, \n",
        "        train=\"train\", \n",
        "        valid=\"valid\",\n",
        "        test=\"test\", \n",
        "        min_freq=1,\n",
        "#         bptt=70,\n",
        "        tokenizer=tok, \n",
        "        include_bos=False\n",
        "    )"
      ],
      "execution_count": 0,
      "outputs": []
    },
    {
      "cell_type": "markdown",
      "metadata": {
        "id": "tAKR-menJW3r",
        "colab_type": "text"
      },
      "source": [
        "## Train a chordwise language model"
      ]
    },
    {
      "cell_type": "code",
      "metadata": {
        "id": "qjRBTLKEc4dP",
        "colab_type": "code",
        "colab": {}
      },
      "source": [
        "data_path_chordwise = \"processed_data/chordwise\""
      ],
      "execution_count": 0,
      "outputs": []
    },
    {
      "cell_type": "code",
      "metadata": {
        "id": "uShMcp7uBKXc",
        "colab_type": "code",
        "colab": {}
      },
      "source": [
        "config = awd_lstm_lm_config.copy()\n",
        "config"
      ],
      "execution_count": 0,
      "outputs": []
    },
    {
      "cell_type": "code",
      "metadata": {
        "id": "jHeWLmyEBLc_",
        "colab_type": "code",
        "colab": {}
      },
      "source": [
        "chordwise_databunch = create_default_databunch(data_path=data_path_chordwise)\n",
        "# save databunch to avoid having to do it again\n",
        "## (time intense for large datasets)\n",
        "chordwise_databunch.save(\"/content/chordwise_databunch_export.pkl\")"
      ],
      "execution_count": 0,
      "outputs": []
    },
    {
      "cell_type": "code",
      "metadata": {
        "id": "JkgTbvwpLLsI",
        "colab_type": "code",
        "colab": {}
      },
      "source": [
        "chordwise_databunch = TextLMDataBunch.load(\"/content/chordwise_databunch_export.pkl\")"
      ],
      "execution_count": 0,
      "outputs": []
    },
    {
      "cell_type": "code",
      "metadata": {
        "id": "MjqdoL1aBjd7",
        "colab_type": "code",
        "colab": {
          "base_uri": "https://localhost:8080/",
          "height": 1000
        },
        "outputId": "c1288621-9d1f-4fb3-a899-22154dc17a25"
      },
      "source": [
        "chordwise_databunch.show_batch()"
      ],
      "execution_count": 88,
      "outputs": [
        {
          "output_type": "display_data",
          "data": {
            "text/html": [
              "<table border=\"1\" class=\"dataframe\">\n",
              "  <thead>\n",
              "    <tr style=\"text-align: right;\">\n",
              "      <th>idx</th>\n",
              "      <th>text</th>\n",
              "    </tr>\n",
              "  </thead>\n",
              "  <tbody>\n",
              "    <tr>\n",
              "      <td>0</td>\n",
              "      <td>p00000000000010001000010000001000010000 pnnnnnnnnnnnnnnnnnnnnnnnnnnnnnnnnnnnnnn pnnnnnnnnnnnnnnnnnnnnnnnnnnnnnnnnnnnnnn piiiiiiiiiiiiiiiiiiiiiiiiiiiiiiiiiiiiii p00000000000001000000000000000000000000 piiiiiiiiiiiiiiiiiiiiiiiiiiiiiiiiiiiiii p00000000000000000000000000000001000000 piiiiiiiiiiiiiiiiiiiiiiiiiiiiiiiiiiiiii p00000000000000100000000000100100000000 pkkkkkkkkkkkkkkkkkkkkkkkkkkkkkkkkkkkkkk pkkkkkkkkkkkkkkkkkkkkkkkkkkkkkkkkkkkkkk pffffffffffffffffffffffffffffffffffffff p00000000000000000000000000000100000000 pgggggggggggggggggggggggggggggggggggggg pgggggggggggggggggggggggggggggggggggggg pffffffffffffffffffffffffffffffffffffff p00001000010000000001010000000000000000 piiiiiiiiiiiiiiiiiiiiiiiiiiiiiiiiiiiiii piiiiiiiiiiiiiiiiiiiiiiiiiiiiiiiiiiiiii pffffffffffffffffffffffffffffffffffffff p00000000000000000000000001000000000000 pgggggggggggggggggggggggggggggggggggggg pgggggggggggggggggggggggggggggggggggggg pffffffffffffffffffffffffffffffffffffff p00000100010000000100010000000000000000 pjjjjjjjjjjjjjjjjjjjjjjjjjjjjjjjjjjjjjj p00000000000000000000000000100000000000 pgggggggggggggggggggggggggggggggggggggg p00000000000000000100000100100000000100 pkkkkkkkkkkkkkkkkkkkkkkkkkkkkkkkkkkkkkk p00000000000000000000000000000000010000 pkkkkkkkkkkkkkkkkkkkkkkkkkkkkkkkkkkkkkk p00001000000100001000000100100000010000 pqqqqqqqqqqqqqqqqqqqqqqqqqqqqqqqqqqqqqq pqqqqqqqqqqqqqqqqqqqqqqqqqqqqqqqqqqqqqq pmmmmmmmmmmmmmmmmmmmmmmmmmmmmmmmmmmmmmm p00000000000000000000000000000000100000 pmmmmmmmmmmmmmmmmmmmmmmmmmmmmmmmmmmmmmm pmmmmmmmmmmmmmmmmmmmmmmmmmmmmmmmmmmmmmm piiiiiiiiiiiiiiiiiiiiiiiiiiiiiiiiiiiiii p00000000000000100000000000000000000000 p00000000000000000000000000001000000000 p00000000000000000000000000000010000000 peeeeeeeeeeeeeeeeeeeeeeeeeeeeeeeeeeeeee p00000000000000001000100100000000100000 p00000000000000000000000000000000010000 p00000000000000000000000000000000000100 pjjjjjjjjjjjjjjjjjjjjjjjjjjjjjjjjjjjjjj p00000000000010000000000000000000000000 pkkkkkkkkkkkkkkkkkkkkkkkkkkkkkkkkkkkkkk pkkkkkkkkkkkkkkkkkkkkkkkkkkkkkkkkkkkkkk pjjjjjjjjjjjjjjjjjjjjjjjjjjjjjjjjjjjjjj p00000000000000001000010010000000000000 pkkkkkkkkkkkkkkkkkkkkkkkkkkkkkkkkkkkkkk pkkkkkkkkkkkkkkkkkkkkkkkkkkkkkkkkkkkkkk pgggggggggggggggggggggggggggggggggggggg p00000000000100000000000000000000000000 p00000000000000000000000000001000000000 p00000000000000000000000000000010000000 pgggggggggggggggggggggggggggggggggggggg p00000000000000001000100000100000100000 p00000000000000000000000000000000010000 p00000000000000000000000000000000000100 pjjjjjjjjjjjjjjjjjjjjjjjjjjjjjjjjjjjjjj p00000000010000000000000000000000000000 pkkkkkkkkkkkkkkkkkkkkkkkkkkkkkkkkkkkkkk pkkkkkkkkkkkkkkkkkkkkkkkkkkkkkkkkkkkkkk pjjjjjjjjjjjjjjjjjjjjjjjjjjjjjjjjjjjjjj p00000000000000001001000001000000000000 pkkkkkkkkkkkkkkkkkkkkkkkkkkkkkkkkkkkkkk</td>\n",
              "    </tr>\n",
              "    <tr>\n",
              "      <td>1</td>\n",
              "      <td>pgggggggggggggggggggggggggggggggggggggg pgggggggggggggggggggggggggggggggggggggg pcccccccccccccccccccccccccccccccccccccc p00000001001000100000001000000000000000 pgggggggggggggggggggggggggggggggggggggg pgggggggggggggggggggggggggggggggggggggg pffffffffffffffffffffffffffffffffffffff p00000000000000000000001000000000000000 pgggggggggggggggggggggggggggggggggggggg p00000000000000000000000010000000000000 pgggggggggggggggggggggggggggggggggggggg p00000000000000000000001000000000000000 phhhhhhhhhhhhhhhhhhhhhhhhhhhhhhhhhhhhhh p00000000000000000000010000000000000000 peeeeeeeeeeeeeeeeeeeeeeeeeeeeeeeeeeeeee p00000000000010001001001000000000000000 piiiiiiiiiiiiiiiiiiiiiiiiiiiiiiiiiiiiii piiiiiiiiiiiiiiiiiiiiiiiiiiiiiiiiiiiiii phhhhhhhhhhhhhhhhhhhhhhhhhhhhhhhhhhhhhh phhhhhhhhhhhhhhhhhhhhhhhhhhhhhhhhhhhhhh pgggggggggggggggggggggggggggggggggggggg pgggggggggggggggggggggggggggggggggggggg pffffffffffffffffffffffffffffffffffffff p00000000000000000000000000000100000000 pffffffffffffffffffffffffffffffffffffff pffffffffffffffffffffffffffffffffffffff pbbbbbbbbbbbbbbbbbbbbbbbbbbbbbbbbbbbbbb p00000100010010000000000010000000000000 pffffffffffffffffffffffffffffffffffffff pffffffffffffffffffffffffffffffffffffff pffffffffffffffffffffffffffffffffffffff p00000000000000000000000010000000000000 pgggggggggggggggggggggggggggggggggggggg p00000000000000000000000000100000000000 pgggggggggggggggggggggggggggggggggggggg p00000000000000000000000010000000000000 phhhhhhhhhhhhhhhhhhhhhhhhhhhhhhhhhhhhhh p00000000000000000000001000000000000000 peeeeeeeeeeeeeeeeeeeeeeeeeeeeeeeeeeeeee p00000100010010000000010000000000000000 piiiiiiiiiiiiiiiiiiiiiiiiiiiiiiiiiiiiii piiiiiiiiiiiiiiiiiiiiiiiiiiiiiiiiiiiiii phhhhhhhhhhhhhhhhhhhhhhhhhhhhhhhhhhhhhh p00000000000000000000000010000000000000 phhhhhhhhhhhhhhhhhhhhhhhhhhhhhhhhhhhhhh phhhhhhhhhhhhhhhhhhhhhhhhhhhhhhhhhhhhhh pgggggggggggggggggggggggggggggggggggggg p00000000000000000100000000000000000000 pgggggggggggggggggggggggggggggggggggggg pgggggggggggggggggggggggggggggggggggggg pcccccccccccccccccccccccccccccccccccccc p00000000001000100100001000000000000000 pgggggggggggggggggggggggggggggggggggggg pgggggggggggggggggggggggggggggggggggggg pffffffffffffffffffffffffffffffffffffff p00000000000000000000010000000000000000 pgggggggggggggggggggggggggggggggggggggg pgggggggggggggggggggggggggggggggggggggg pffffffffffffffffffffffffffffffffffffff p00000000000000000001000000000000000000 pgggggggggggggggggggggggggggggggggggggg pgggggggggggggggggggggggggggggggggggggg pcccccccccccccccccccccccccccccccccccccc p00000100010010000100000000000000000000 pgggggggggggggggggggggggggggggggggggggg pgggggggggggggggggggggggggggggggggggggg pffffffffffffffffffffffffffffffffffffff pffffffffffffffffffffffffffffffffffffff pffffffffffffffffffffffffffffffffffffff pffffffffffffffffffffffffffffffffffffff</td>\n",
              "    </tr>\n",
              "    <tr>\n",
              "      <td>2</td>\n",
              "      <td>pgggggggggggggggggggggggggggggggggggggg pgggggggggggggggggggggggggggggggggggggg pffffffffffffffffffffffffffffffffffffff pffffffffffffffffffffffffffffffffffffff pbbbbbbbbbbbbbbbbbbbbbbbbbbbbbbbbbbbbbb pbbbbbbbbbbbbbbbbbbbbbbbbbbbbbbbbbbbbbb p00000000000000000000000001000000000000 pcccccccccccccccccccccccccccccccccccccc p00000010001001000000000000000010000000 pgggggggggggggggggggggggggggggggggggggg pffffffffffffffffffffffffffffffffffffff pffffffffffffffffffffffffffffffffffffff p00000000000000000000000000000010000000 pgggggggggggggggggggggggggggggggggggggg p00000000000000000000000000000010000000 phhhhhhhhhhhhhhhhhhhhhhhhhhhhhhhhhhhhhh phhhhhhhhhhhhhhhhhhhhhhhhhhhhhhhhhhhhhh pgggggggggggggggggggggggggggggggggggggg p00000000000000000000000000000010000000 pdddddddddddddddddddddddddddddddddddddd p00000010001001000000000000000010000000 phhhhhhhhhhhhhhhhhhhhhhhhhhhhhhhhhhhhhh phhhhhhhhhhhhhhhhhhhhhhhhhhhhhhhhhhhhhh pgggggggggggggggggggggggggggggggggggggg p00000000000000000000000000000010000000 pgggggggggggggggggggggggggggggggggggggg p00000000000000000000000000000010000000 phhhhhhhhhhhhhhhhhhhhhhhhhhhhhhhhhhhhhh phhhhhhhhhhhhhhhhhhhhhhhhhhhhhhhhhhhhhh pgggggggggggggggggggggggggggggggggggggg p00000000000000000000000000000010000000 pdddddddddddddddddddddddddddddddddddddd p00000000000001000100100100000000100000 piiiiiiiiiiiiiiiiiiiiiiiiiiiiiiiiiiiiii piiiiiiiiiiiiiiiiiiiiiiiiiiiiiiiiiiiiii phhhhhhhhhhhhhhhhhhhhhhhhhhhhhhhhhhhhhh p00000000000000000000000000000000100000 phhhhhhhhhhhhhhhhhhhhhhhhhhhhhhhhhhhhhh p00000000000000000000000000000000100000 piiiiiiiiiiiiiiiiiiiiiiiiiiiiiiiiiiiiii piiiiiiiiiiiiiiiiiiiiiiiiiiiiiiiiiiiiii phhhhhhhhhhhhhhhhhhhhhhhhhhhhhhhhhhhhhh p00000000000000000000000000000000100000 pdddddddddddddddddddddddddddddddddddddd p00000010001001000000000000000000001000 phhhhhhhhhhhhhhhhhhhhhhhhhhhhhhhhhhhhhh phhhhhhhhhhhhhhhhhhhhhhhhhhhhhhhhhhhhhh pgggggggggggggggggggggggggggggggggggggg pgggggggggggggggggggggggggggggggggggggg pffffffffffffffffffffffffffffffffffffff p00000000000000000000000000000010000000 pgggggggggggggggggggggggggggggggggggggg pgggggggggggggggggggggggggggggggggggggg pffffffffffffffffffffffffffffffffffffff pffffffffffffffffffffffffffffffffffffff pbbbbbbbbbbbbbbbbbbbbbbbbbbbbbbbbbbbbbb p00000000000100010010000000000000000100 pffffffffffffffffffffffffffffffffffffff p00000000000000000000000000000000000100 pgggggggggggggggggggggggggggggggggggggg p00000000000000000000000000000000000100 pgggggggggggggggggggggggggggggggggggggg p00000000000000000000000000000000000100 phhhhhhhhhhhhhhhhhhhhhhhhhhhhhhhhhhhhhh phhhhhhhhhhhhhhhhhhhhhhhhhhhhhhhhhhhhhh phhhhhhhhhhhhhhhhhhhhhhhhhhhhhhhhhhhhhh p00000000000000000000000000000000000100 peeeeeeeeeeeeeeeeeeeeeeeeeeeeeeeeeeeeee p00000010001001000000000000000000001000 phhhhhhhhhhhhhhhhhhhhhhhhhhhhhhhhhhhhhh</td>\n",
              "    </tr>\n",
              "    <tr>\n",
              "      <td>3</td>\n",
              "      <td>p00000000000000000000000000000010000000 pmmmmmmmmmmmmmmmmmmmmmmmmmmmmmmmmmmmmmm pmmmmmmmmmmmmmmmmmmmmmmmmmmmmmmmmmmmmmm pkkkkkkkkkkkkkkkkkkkkkkkkkkkkkkkkkkkkkk p00000000000000000000000000000100000000 pkkkkkkkkkkkkkkkkkkkkkkkkkkkkkkkkkkkkkk p00000000000000000000000000000000010000 pjjjjjjjjjjjjjjjjjjjjjjjjjjjjjjjjjjjjjj p00000000000000000000000000000000000010 pffffffffffffffffffffffffffffffffffffff p00000000000000000000000000000000001010 p00000000000000000000000000000000001000 p00000000000000000000000000000010000000 phhhhhhhhhhhhhhhhhhhhhhhhhhhhhhhhhhhhhh phhhhhhhhhhhhhhhhhhhhhhhhhhhhhhhhhhhhhh pgggggggggggggggggggggggggggggggggggggg p00000000000000000000000000000100000000 pgggggggggggggggggggggggggggggggggggggg p00000000000000000000000000000000010000 pgggggggggggggggggggggggggggggggggggggg p00000000000000000000000000000000000010 pffffffffffffffffffffffffffffffffffffff p00000000000000000000001000000010000000 pffffffffffffffffffffffffffffffffffffff p00000000000000000000000000000000000001 pgggggggggggggggggggggggggggggggggggggg p00000000000000000000000000000010000000 p00000000000000000000001010000000000000 p00000000000000000000100000000000000010 pjjjjjjjjjjjjjjjjjjjjjjjjjjjjjjjjjjjjjj p00000000000000000000000000000100000000 pjjjjjjjjjjjjjjjjjjjjjjjjjjjjjjjjjjjjjj p00000000000000000000000000000000000010 piiiiiiiiiiiiiiiiiiiiiiiiiiiiiiiiiiiiii p00000000000000000010000010000000001000 pkkkkkkkkkkkkkkkkkkkkkkkkkkkkkkkkkkkkkk pkkkkkkkkkkkkkkkkkkkkkkkkkkkkkkkkkkkkkk pjjjjjjjjjjjjjjjjjjjjjjjjjjjjjjjjjjjjjj p00000000000000000000000000000000001000 p00000000000000000000000000000100010000 p00000000000000000100000000000000000010 pjjjjjjjjjjjjjjjjjjjjjjjjjjjjjjjjjjjjjj p00000000000000000000000000010000010000 pkkkkkkkkkkkkkkkkkkkkkkkkkkkkkkkkkkkkkk p00000000000000000000000010000000000010 pjjjjjjjjjjjjjjjjjjjjjjjjjjjjjjjjjjjjjj p00000000000000000000000001000000001010 p00000000000000000000000000000000001000 p00000000000000000000001000000010000000 poooooooooooooooooooooooooooooooooooooo p00000000000000000000000001000000000000 pllllllllllllllllllllllllllllllllllllll p00000000000000000000000010000100000000 pllllllllllllllllllllllllllllllllllllll p00000000000000000000000000010000010000 pllllllllllllllllllllllllllllllllllllll p00000000000000000000000010000000000010 pkkkkkkkkkkkkkkkkkkkkkkkkkkkkkkkkkkkkkk p00000000000000000000000001000000001010 p00000000000000000000000000000000001000 p00000000000000000000001000000010000000 pmmmmmmmmmmmmmmmmmmmmmmmmmmmmmmmmmmmmmm p00000000000000000000000001000000000000 pllllllllllllllllllllllllllllllllllllll p00000000000000000000010000000100000010 pmmmmmmmmmmmmmmmmmmmmmmmmmmmmmmmmmmmmmm p00000000000000000000100000000000000100 pmmmmmmmmmmmmmmmmmmmmmmmmmmmmmmmmmmmmmm p00000000000000000001000000000000001000 pllllllllllllllllllllllllllllllllllllll</td>\n",
              "    </tr>\n",
              "    <tr>\n",
              "      <td>4</td>\n",
              "      <td>pcccccccccccccccccccccccccccccccccccccc pcccccccccccccccccccccccccccccccccccccc pcccccccccccccccccccccccccccccccccccccc p00000000000000000000000000010000000000 pdddddddddddddddddddddddddddddddddddddd pdddddddddddddddddddddddddddddddddddddd pdddddddddddddddddddddddddddddddddddddd pdddddddddddddddddddddddddddddddddddddd p00000000000000000010000000000000001000 pdddddddddddddddddddddddddddddddddddddd pdddddddddddddddddddddddddddddddddddddd pdddddddddddddddddddddddddddddddddddddd pdddddddddddddddddddddddddddddddddddddd p00000000000000000100000000000000100000 peeeeeeeeeeeeeeeeeeeeeeeeeeeeeeeeeeeeee peeeeeeeeeeeeeeeeeeeeeeeeeeeeeeeeeeeeee peeeeeeeeeeeeeeeeeeeeeeeeeeeeeeeeeeeeee p00000000000000010000000010010010000000 piiiiiiiiiiiiiiiiiiiiiiiiiiiiiiiiiiiiii pgggggggggggggggggggggggggggggggggggggg pgggggggggggggggggggggggggggggggggggggg pgggggggggggggggggggggggggggggggggggggg p00000000000000000100000000000000000000 phhhhhhhhhhhhhhhhhhhhhhhhhhhhhhhhhhhhhh pffffffffffffffffffffffffffffffffffffff pffffffffffffffffffffffffffffffffffffff pffffffffffffffffffffffffffffffffffffff p00000000000000000010000001000000001000 peeeeeeeeeeeeeeeeeeeeeeeeeeeeeeeeeeeeee peeeeeeeeeeeeeeeeeeeeeeeeeeeeeeeeeeeeee peeeeeeeeeeeeeeeeeeeeeeeeeeeeeeeeeeeeee peeeeeeeeeeeeeeeeeeeeeeeeeeeeeeeeeeeeee p00000000000000000000000000010000000000 peeeeeeeeeeeeeeeeeeeeeeeeeeeeeeeeeeeeee peeeeeeeeeeeeeeeeeeeeeeeeeeeeeeeeeeeeee peeeeeeeeeeeeeeeeeeeeeeeeeeeeeeeeeeeeee peeeeeeeeeeeeeeeeeeeeeeeeeeeeeeeeeeeeee p00000000000001000000000001000100100000 pffffffffffffffffffffffffffffffffffffff pffffffffffffffffffffffffffffffffffffff pffffffffffffffffffffffffffffffffffffff pffffffffffffffffffffffffffffffffffffff pffffffffffffffffffffffffffffffffffffff peeeeeeeeeeeeeeeeeeeeeeeeeeeeeeeeeeeeee peeeeeeeeeeeeeeeeeeeeeeeeeeeeeeeeeeeeee peeeeeeeeeeeeeeeeeeeeeeeeeeeeeeeeeeeeee p00000010000000000000000001000000001000 phhhhhhhhhhhhhhhhhhhhhhhhhhhhhhhhhhhhhh pdddddddddddddddddddddddddddddddddddddd pdddddddddddddddddddddddddddddddddddddd pdddddddddddddddddddddddddddddddddddddd p00000000000000000000000000000010000000 peeeeeeeeeeeeeeeeeeeeeeeeeeeeeeeeeeeeee peeeeeeeeeeeeeeeeeeeeeeeeeeeeeeeeeeeeee peeeeeeeeeeeeeeeeeeeeeeeeeeeeeeeeeeeeee peeeeeeeeeeeeeeeeeeeeeeeeeeeeeeeeeeeeee p00000000000001000000000000000100100000 peeeeeeeeeeeeeeeeeeeeeeeeeeeeeeeeeeeeee peeeeeeeeeeeeeeeeeeeeeeeeeeeeeeeeeeeeee peeeeeeeeeeeeeeeeeeeeeeeeeeeeeeeeeeeeee peeeeeeeeeeeeeeeeeeeeeeeeeeeeeeeeeeeeee peeeeeeeeeeeeeeeeeeeeeeeeeeeeeeeeeeeeee pdddddddddddddddddddddddddddddddddddddd pdddddddddddddddddddddddddddddddddddddd pdddddddddddddddddddddddddddddddddddddd p00000000000000000000001000010001000000 pgggggggggggggggggggggggggggggggggggggg pdddddddddddddddddddddddddddddddddddddd pdddddddddddddddddddddddddddddddddddddd pdddddddddddddddddddddddddddddddddddddd</td>\n",
              "    </tr>\n",
              "  </tbody>\n",
              "</table>"
            ],
            "text/plain": [
              "<IPython.core.display.HTML object>"
            ]
          },
          "metadata": {
            "tags": []
          }
        }
      ]
    },
    {
      "cell_type": "code",
      "metadata": {
        "id": "oP2fuLh7Bw-V",
        "colab_type": "code",
        "colab": {}
      },
      "source": [
        "learner_chordwise = None\n",
        "learner_chordwise = language_model_learner(chordwise_databunch, arch=AWD_LSTM , config=config)"
      ],
      "execution_count": 0,
      "outputs": []
    },
    {
      "cell_type": "code",
      "metadata": {
        "id": "zj6hYiFJCLpb",
        "colab_type": "code",
        "outputId": "1a4f72de-d03f-47c6-a37e-5d4371eb10fe",
        "colab": {
          "base_uri": "https://localhost:8080/",
          "height": 298
        }
      },
      "source": [
        "# find best lr and show plot\n",
        "learner_chordwise.lr_find()\n",
        "learner_chordwise.recorder.plot()"
      ],
      "execution_count": 0,
      "outputs": [
        {
          "output_type": "display_data",
          "data": {
            "text/html": [
              ""
            ],
            "text/plain": [
              "<IPython.core.display.HTML object>"
            ]
          },
          "metadata": {
            "tags": []
          }
        },
        {
          "output_type": "stream",
          "text": [
            "LR Finder is complete, type {learner_name}.recorder.plot() to see the graph.\n"
          ],
          "name": "stdout"
        },
        {
          "output_type": "display_data",
          "data": {
            "image/png": "[encoded data removed]",
            "text/plain": [
              "<Figure size 432x288 with 1 Axes>"
            ]
          },
          "metadata": {
            "tags": [],
            "image/png": {
              "width": 393,
              "height": 264
            }
          }
        }
      ]
    },
    {
      "cell_type": "code",
      "metadata": {
        "id": "MT-UiypCB7Tf",
        "colab_type": "code",
        "outputId": "99a3d967-3aa5-433f-f6cb-08189f752809",
        "colab": {
          "base_uri": "https://localhost:8080/",
          "height": 81
        }
      },
      "source": [
        "# run training\n",
        "# See https://docs.fast.ai/callbacks.one_cycle.html#What-is-1cycle?\n",
        "# https://forums.fast.ai/t/why-do-we-need-to-unfreeze-the-learner-everytime-before-retarining-even-if-learn-fit-one-cycle-works-fine-without-learn-unfreeze/41614/5\n",
        "learner_chordwise.fit_one_cycle(1, 1e-01)"
      ],
      "execution_count": 0,
      "outputs": [
        {
          "output_type": "display_data",
          "data": {
            "text/html": [
              "<table border=\"1\" class=\"dataframe\">\n",
              "  <thead>\n",
              "    <tr style=\"text-align: left;\">\n",
              "      <th>epoch</th>\n",
              "      <th>train_loss</th>\n",
              "      <th>valid_loss</th>\n",
              "      <th>accuracy</th>\n",
              "      <th>time</th>\n",
              "    </tr>\n",
              "  </thead>\n",
              "  <tbody>\n",
              "    <tr>\n",
              "      <td>0</td>\n",
              "      <td>3.230626</td>\n",
              "      <td>2.570084</td>\n",
              "      <td>0.430032</td>\n",
              "      <td>15:23</td>\n",
              "    </tr>\n",
              "  </tbody>\n",
              "</table>"
            ],
            "text/plain": [
              "<IPython.core.display.HTML object>"
            ]
          },
          "metadata": {
            "tags": []
          }
        }
      ]
    },
    {
      "cell_type": "code",
      "metadata": {
        "id": "oYbHkCkdbwFH",
        "colab_type": "code",
        "outputId": "ab86eede-4e45-4362-bed6-8387fff2ffcf",
        "colab": {
          "base_uri": "https://localhost:8080/",
          "height": 81
        }
      },
      "source": [
        "learner_chordwise.unfreeze()\n",
        "learner_chordwise.fit_one_cycle(1, 1e-03)"
      ],
      "execution_count": 0,
      "outputs": [
        {
          "output_type": "display_data",
          "data": {
            "text/html": [
              "<table border=\"1\" class=\"dataframe\">\n",
              "  <thead>\n",
              "    <tr style=\"text-align: left;\">\n",
              "      <th>epoch</th>\n",
              "      <th>train_loss</th>\n",
              "      <th>valid_loss</th>\n",
              "      <th>accuracy</th>\n",
              "      <th>time</th>\n",
              "    </tr>\n",
              "  </thead>\n",
              "  <tbody>\n",
              "    <tr>\n",
              "      <td>0</td>\n",
              "      <td>2.090430</td>\n",
              "      <td>1.598667</td>\n",
              "      <td>0.647082</td>\n",
              "      <td>18:10</td>\n",
              "    </tr>\n",
              "  </tbody>\n",
              "</table>"
            ],
            "text/plain": [
              "<IPython.core.display.HTML object>"
            ]
          },
          "metadata": {
            "tags": []
          }
        }
      ]
    },
    {
      "cell_type": "code",
      "metadata": {
        "id": "jSf95NLi0zKG",
        "colab_type": "code",
        "outputId": "203bd2db-2fbd-4c19-fb61-034811f310a9",
        "colab": {
          "base_uri": "https://localhost:8080/",
          "height": 81
        }
      },
      "source": [
        "learner_chordwise.unfreeze()\n",
        "learner_chordwise.fit_one_cycle(1, 1e-03)"
      ],
      "execution_count": 0,
      "outputs": [
        {
          "output_type": "display_data",
          "data": {
            "text/html": [
              "<table border=\"1\" class=\"dataframe\">\n",
              "  <thead>\n",
              "    <tr style=\"text-align: left;\">\n",
              "      <th>epoch</th>\n",
              "      <th>train_loss</th>\n",
              "      <th>valid_loss</th>\n",
              "      <th>accuracy</th>\n",
              "      <th>time</th>\n",
              "    </tr>\n",
              "  </thead>\n",
              "  <tbody>\n",
              "    <tr>\n",
              "      <td>0</td>\n",
              "      <td>1.782288</td>\n",
              "      <td>1.487033</td>\n",
              "      <td>0.673698</td>\n",
              "      <td>18:09</td>\n",
              "    </tr>\n",
              "  </tbody>\n",
              "</table>"
            ],
            "text/plain": [
              "<IPython.core.display.HTML object>"
            ]
          },
          "metadata": {
            "tags": []
          }
        }
      ]
    },
    {
      "cell_type": "code",
      "metadata": {
        "id": "C3-_ttOv5MDc",
        "colab_type": "code",
        "outputId": "9bf3566b-aa3f-4ceb-f712-5caf26bf1639",
        "colab": {
          "base_uri": "https://localhost:8080/",
          "height": 81
        }
      },
      "source": [
        "learner_chordwise.freeze()\n",
        "learner_chordwise.fit_one_cycle(1, 1e-03)"
      ],
      "execution_count": 0,
      "outputs": [
        {
          "output_type": "display_data",
          "data": {
            "text/html": [
              "<table border=\"1\" class=\"dataframe\">\n",
              "  <thead>\n",
              "    <tr style=\"text-align: left;\">\n",
              "      <th>epoch</th>\n",
              "      <th>train_loss</th>\n",
              "      <th>valid_loss</th>\n",
              "      <th>accuracy</th>\n",
              "      <th>time</th>\n",
              "    </tr>\n",
              "  </thead>\n",
              "  <tbody>\n",
              "    <tr>\n",
              "      <td>0</td>\n",
              "      <td>1.879439</td>\n",
              "      <td>1.481238</td>\n",
              "      <td>0.675347</td>\n",
              "      <td>15:39</td>\n",
              "    </tr>\n",
              "  </tbody>\n",
              "</table>"
            ],
            "text/plain": [
              "<IPython.core.display.HTML object>"
            ]
          },
          "metadata": {
            "tags": []
          }
        }
      ]
    },
    {
      "cell_type": "code",
      "metadata": {
        "id": "J0BWCJlJ9Sqz",
        "colab_type": "code",
        "outputId": "aa5e3ca2-a03d-4fd3-faf6-261a07dfa778",
        "colab": {
          "base_uri": "https://localhost:8080/",
          "height": 81
        }
      },
      "source": [
        "learner_chordwise.unfreeze()\n",
        "learner_chordwise.fit_one_cycle(1, 1e-03)"
      ],
      "execution_count": 0,
      "outputs": [
        {
          "output_type": "display_data",
          "data": {
            "text/html": [
              "<table border=\"1\" class=\"dataframe\">\n",
              "  <thead>\n",
              "    <tr style=\"text-align: left;\">\n",
              "      <th>epoch</th>\n",
              "      <th>train_loss</th>\n",
              "      <th>valid_loss</th>\n",
              "      <th>accuracy</th>\n",
              "      <th>time</th>\n",
              "    </tr>\n",
              "  </thead>\n",
              "  <tbody>\n",
              "    <tr>\n",
              "      <td>0</td>\n",
              "      <td>1.710099</td>\n",
              "      <td>1.429308</td>\n",
              "      <td>0.687846</td>\n",
              "      <td>18:12</td>\n",
              "    </tr>\n",
              "  </tbody>\n",
              "</table>"
            ],
            "text/plain": [
              "<IPython.core.display.HTML object>"
            ]
          },
          "metadata": {
            "tags": []
          }
        }
      ]
    },
    {
      "cell_type": "code",
      "metadata": {
        "id": "IfFe1hsMDLqe",
        "colab_type": "code",
        "outputId": "e9efbe48-4192-4080-e8c3-1710ade27b5e",
        "colab": {
          "base_uri": "https://localhost:8080/",
          "height": 81
        }
      },
      "source": [
        "learner_chordwise.unfreeze()\n",
        "learner_chordwise.fit_one_cycle(1, 1e-02)"
      ],
      "execution_count": 0,
      "outputs": [
        {
          "output_type": "display_data",
          "data": {
            "text/html": [
              "<table border=\"1\" class=\"dataframe\">\n",
              "  <thead>\n",
              "    <tr style=\"text-align: left;\">\n",
              "      <th>epoch</th>\n",
              "      <th>train_loss</th>\n",
              "      <th>valid_loss</th>\n",
              "      <th>accuracy</th>\n",
              "      <th>time</th>\n",
              "    </tr>\n",
              "  </thead>\n",
              "  <tbody>\n",
              "    <tr>\n",
              "      <td>0</td>\n",
              "      <td>1.869147</td>\n",
              "      <td>1.485611</td>\n",
              "      <td>0.679809</td>\n",
              "      <td>18:10</td>\n",
              "    </tr>\n",
              "  </tbody>\n",
              "</table>"
            ],
            "text/plain": [
              "<IPython.core.display.HTML object>"
            ]
          },
          "metadata": {
            "tags": []
          }
        }
      ]
    },
    {
      "cell_type": "code",
      "metadata": {
        "id": "k1XrTdODEP1i",
        "colab_type": "code",
        "colab": {}
      },
      "source": [
        "learner_chordwise = learner_chordwise.load(\"/content/chordwise_model_v4\")"
      ],
      "execution_count": 0,
      "outputs": []
    },
    {
      "cell_type": "code",
      "metadata": {
        "id": "BvIOdXtbHoFS",
        "colab_type": "code",
        "outputId": "a68ff85e-48d1-4541-f67c-90a9915ee812",
        "colab": {
          "base_uri": "https://localhost:8080/",
          "height": 81
        }
      },
      "source": [
        "learner_chordwise.freeze()\n",
        "learner_chordwise.fit_one_cycle(1, 1e-02)"
      ],
      "execution_count": 0,
      "outputs": [
        {
          "output_type": "display_data",
          "data": {
            "text/html": [
              "<table border=\"1\" class=\"dataframe\">\n",
              "  <thead>\n",
              "    <tr style=\"text-align: left;\">\n",
              "      <th>epoch</th>\n",
              "      <th>train_loss</th>\n",
              "      <th>valid_loss</th>\n",
              "      <th>accuracy</th>\n",
              "      <th>time</th>\n",
              "    </tr>\n",
              "  </thead>\n",
              "  <tbody>\n",
              "    <tr>\n",
              "      <td>0</td>\n",
              "      <td>1.695012</td>\n",
              "      <td>1.428145</td>\n",
              "      <td>0.689880</td>\n",
              "      <td>15:38</td>\n",
              "    </tr>\n",
              "  </tbody>\n",
              "</table>"
            ],
            "text/plain": [
              "<IPython.core.display.HTML object>"
            ]
          },
          "metadata": {
            "tags": []
          }
        }
      ]
    },
    {
      "cell_type": "code",
      "metadata": {
        "id": "Ld8hvA8qTDI4",
        "colab_type": "code",
        "outputId": "d5484b52-1d9c-4f51-cb19-3a3693278ab1",
        "colab": {
          "base_uri": "https://localhost:8080/",
          "height": 81
        }
      },
      "source": [
        "learner_chordwise.freeze()\n",
        "learner_chordwise.fit_one_cycle(1, 1e-01)"
      ],
      "execution_count": 0,
      "outputs": [
        {
          "output_type": "display_data",
          "data": {
            "text/html": [
              "<table border=\"1\" class=\"dataframe\">\n",
              "  <thead>\n",
              "    <tr style=\"text-align: left;\">\n",
              "      <th>epoch</th>\n",
              "      <th>train_loss</th>\n",
              "      <th>valid_loss</th>\n",
              "      <th>accuracy</th>\n",
              "      <th>time</th>\n",
              "    </tr>\n",
              "  </thead>\n",
              "  <tbody>\n",
              "    <tr>\n",
              "      <td>0</td>\n",
              "      <td>1.890985</td>\n",
              "      <td>1.460214</td>\n",
              "      <td>0.686545</td>\n",
              "      <td>15:37</td>\n",
              "    </tr>\n",
              "  </tbody>\n",
              "</table>"
            ],
            "text/plain": [
              "<IPython.core.display.HTML object>"
            ]
          },
          "metadata": {
            "tags": []
          }
        }
      ]
    },
    {
      "cell_type": "markdown",
      "metadata": {
        "id": "3pawDJD0bNiG",
        "colab_type": "text"
      },
      "source": [
        "Stopped training at this point."
      ]
    },
    {
      "cell_type": "code",
      "metadata": {
        "id": "n9-Jv4edW0D8",
        "colab_type": "code",
        "colab": {}
      },
      "source": [
        "learner_chordwise = learner_chordwise.load(\"/content/chordwise_model_v5\")"
      ],
      "execution_count": 0,
      "outputs": []
    },
    {
      "cell_type": "code",
      "metadata": {
        "id": "vnrJoyO2W2H5",
        "colab_type": "code",
        "outputId": "5716f0ec-f090-44d3-8ff5-9af8ed87d026",
        "colab": {
          "base_uri": "https://localhost:8080/",
          "height": 81
        }
      },
      "source": [
        "learner_chordwise.unfreeze()\n",
        "learner_chordwise.fit_one_cycle(1, 1e-04)"
      ],
      "execution_count": 0,
      "outputs": [
        {
          "output_type": "display_data",
          "data": {
            "text/html": [
              "<table border=\"1\" class=\"dataframe\">\n",
              "  <thead>\n",
              "    <tr style=\"text-align: left;\">\n",
              "      <th>epoch</th>\n",
              "      <th>train_loss</th>\n",
              "      <th>valid_loss</th>\n",
              "      <th>accuracy</th>\n",
              "      <th>time</th>\n",
              "    </tr>\n",
              "  </thead>\n",
              "  <tbody>\n",
              "    <tr>\n",
              "      <td>0</td>\n",
              "      <td>1.577501</td>\n",
              "      <td>1.409741</td>\n",
              "      <td>0.693528</td>\n",
              "      <td>18:11</td>\n",
              "    </tr>\n",
              "  </tbody>\n",
              "</table>"
            ],
            "text/plain": [
              "<IPython.core.display.HTML object>"
            ]
          },
          "metadata": {
            "tags": []
          }
        }
      ]
    },
    {
      "cell_type": "code",
      "metadata": {
        "id": "v50Bh7TlHLNE",
        "colab_type": "code",
        "colab": {}
      },
      "source": [
        "fname = \"chordwise_model_v5\""
      ],
      "execution_count": 0,
      "outputs": []
    },
    {
      "cell_type": "code",
      "metadata": {
        "id": "cBF-SwVyOl5B",
        "colab_type": "code",
        "colab": {}
      },
      "source": [
        "# generate a sequence\n",
        "gen = learner_chordwise.predict(text=\"p00000000000000000000100000000000000000 p00000000000000000000010000000000000000\", n_words=200, temperature=0.95)\n",
        "stream = decode_chordwise_string(gen)\n",
        "decoded_notes_file = stream.write('midi', f'{fname}_3.mid')"
      ],
      "execution_count": 0,
      "outputs": []
    },
    {
      "cell_type": "code",
      "metadata": {
        "id": "hGvuDk50B740",
        "colab_type": "code",
        "colab": {}
      },
      "source": [
        "pred1 = learner_chordwise.predict(\"p00000000000000000000000000100000000000\", 400)\n",
        "pred2 = learner_chordwise.predict(\"\", 400)"
      ],
      "execution_count": 0,
      "outputs": []
    },
    {
      "cell_type": "code",
      "metadata": {
        "id": "EIY3kMr9B-gs",
        "colab_type": "code",
        "colab": {}
      },
      "source": [
        "pred1"
      ],
      "execution_count": 0,
      "outputs": []
    },
    {
      "cell_type": "code",
      "metadata": {
        "id": "ooMXdHKOCDEg",
        "colab_type": "code",
        "colab": {}
      },
      "source": [
        "# # save learned model\n",
        "desc = f\"chordwise, merged datasets, 6 epochs, 0.689880 acc, n_hid=1152(default), 3 layers (default), pretrained weights: True (default), dropout_mult=1.0(default)\"\n",
        "desc += f\"\\nepoch     lr         acc         weights\"\n",
        "desc += f\"\\n1         1e-01      0.430032    frozen\"\n",
        "desc += f\"\\n2         1e-03      0.647082    unfrozen\"\n",
        "desc += f\"\\n3         1e-03      0.673698    unfrozen\"\n",
        "desc += f\"\\n4         1e-03      0.675347    frozen\"\n",
        "desc += f\"\\n5         1e-02      0.687846    unfrozen\"\n",
        "desc += f\"\\n6         1e-02      0.689880    frozen\"\n",
        "# desc += f\"\\n7         1e-03      0.746206    unfrozen\"\n",
        "# desc += f\"\\n8         1e-03      0.747563    unfrozen\"\n",
        "# desc += f\"\\n9         1e-03      0.748488    frozen\"\n",
        "\n",
        "learner_chordwise.save(f\"/content/{fname}\")\n",
        "\n",
        "with open(f\"{fname}.txt\", \"w\") as f:\n",
        "    f.write(desc)\n",
        "    \n",
        "# from google.colab import files\n",
        "files.download(f\"/content/{fname}.txt\")\n",
        "files.download(f\"/content/{fname}.pth\")"
      ],
      "execution_count": 0,
      "outputs": []
    },
    {
      "cell_type": "markdown",
      "metadata": {
        "id": "e6tADXiSVlbu",
        "colab_type": "text"
      },
      "source": [
        "## Train a notewise language model"
      ]
    },
    {
      "cell_type": "code",
      "metadata": {
        "colab_type": "code",
        "id": "tjYMSdNnVvQx",
        "colab": {}
      },
      "source": [
        "data_path_notewise = \"processed_data/notewise\""
      ],
      "execution_count": 0,
      "outputs": []
    },
    {
      "cell_type": "code",
      "metadata": {
        "colab_type": "code",
        "id": "X5EPwapqVvQ8",
        "colab": {
          "base_uri": "https://localhost:8080/",
          "height": 243
        },
        "outputId": "569db051-d44b-40d6-829d-aaf7011d2444"
      },
      "source": [
        "config = awd_lstm_lm_config.copy()\n",
        "config"
      ],
      "execution_count": 84,
      "outputs": [
        {
          "output_type": "execute_result",
          "data": {
            "text/plain": [
              "{'bidir': False,\n",
              " 'emb_sz': 400,\n",
              " 'embed_p': 0.02,\n",
              " 'hidden_p': 0.15,\n",
              " 'input_p': 0.25,\n",
              " 'n_hid': 1152,\n",
              " 'n_layers': 3,\n",
              " 'out_bias': True,\n",
              " 'output_p': 0.1,\n",
              " 'pad_token': 1,\n",
              " 'qrnn': False,\n",
              " 'tie_weights': True,\n",
              " 'weight_p': 0.2}"
            ]
          },
          "metadata": {
            "tags": []
          },
          "execution_count": 84
        }
      ]
    },
    {
      "cell_type": "code",
      "metadata": {
        "colab_type": "code",
        "id": "kQI9nOhfVvRD",
        "colab": {}
      },
      "source": [
        "notewise_databunch = create_default_databunch(data_path=data_path_notewise)\n",
        "# save databunch to avoid having to do it again\n",
        "## (time intense for large datasets)\n",
        "notewise_databunch.save(\"/content/notewise_databunch_export.pkl\")"
      ],
      "execution_count": 0,
      "outputs": []
    },
    {
      "cell_type": "code",
      "metadata": {
        "colab_type": "code",
        "id": "bYJd3gibVvRK",
        "colab": {}
      },
      "source": [
        "notewise_databunch = TextLMDataBunch.load(\"/content/notewise_databunch_export.pkl\")"
      ],
      "execution_count": 0,
      "outputs": []
    },
    {
      "cell_type": "code",
      "metadata": {
        "colab_type": "code",
        "id": "QQiw8nXkVvRR",
        "colab": {
          "base_uri": "https://localhost:8080/",
          "height": 380
        },
        "outputId": "860f8a3d-8a0e-406a-c2bb-c3e408fae9f9"
      },
      "source": [
        "notewise_databunch.show_batch()"
      ],
      "execution_count": 86,
      "outputs": [
        {
          "output_type": "display_data",
          "data": {
            "text/html": [
              "<table border=\"1\" class=\"dataframe\">\n",
              "  <thead>\n",
              "    <tr style=\"text-align: right;\">\n",
              "      <th>idx</th>\n",
              "      <th>text</th>\n",
              "    </tr>\n",
              "  </thead>\n",
              "  <tbody>\n",
              "    <tr>\n",
              "      <td>0</td>\n",
              "      <td>p15 p18 wait6 p37 endp37 wait1 endp11 endp15 endp18 wait1 p16 p20 p23 wait4 p37 wait1 endp37 wait1 p35 wait1 endp16 endp20 endp23 endp35 wait1 p18 p22 p25 p28 p34 wait1 endp34 wait1 p35 wait1 endp35 wait1 p37 wait1 endp37 wait2 endp22 endp25 endp28 wait1 p11 p15 p18 p35 wait4 p35 wait1 endp35 wait1 p30 wait1 endp30 wait1 p11 p15 p18 wait6 p37 endp37 wait1 endp11 endp15 endp18 wait1 p16</td>\n",
              "    </tr>\n",
              "    <tr>\n",
              "      <td>1</td>\n",
              "      <td>p12 p24 wait3 endp24 wait1 p29 wait4 p29 wait3 endp29 wait1 p31 wait1 endp31 wait1 p33 wait1 endp33 wait1 p5 p9 p12 p34 wait1 endp34 wait1 p33 wait1 endp33 wait1 p31 wait1 endp31 wait1 p29 wait1 endp29 wait1 p33 wait7 endp5 endp9 endp12 endp33 wait1 p7 p10 p14 p34 wait3 endp34 wait1 p26 wait3 endp26 wait1 p28 wait1 endp28 wait1 p29 wait1 endp29 wait1 p31 wait1 endp31 wait1 p28 wait1</td>\n",
              "    </tr>\n",
              "    <tr>\n",
              "      <td>2</td>\n",
              "      <td>wait3 endp36 wait1 p35 wait1 endp16 endp19 endp35 wait1 p5 p9 p12 p33 wait3 endp33 wait1 p29 wait1 endp29 wait1 p26 wait3 endp26 wait1 p36 wait1 endp5 endp9 endp12 endp36 wait1 p7 p11 p14 p17 p35 wait1 endp35 wait1 p33 wait1 endp33 wait1 p31 wait1 endp31 wait1 p29 wait1 endp29 wait1 p28 wait1 endp28 wait1 p26 wait1 endp7 endp11 endp14 endp17 endp26 wait1 p12 p16 p19 p24 wait6 p24 wait3</td>\n",
              "    </tr>\n",
              "    <tr>\n",
              "      <td>3</td>\n",
              "      <td>p22 p34 wait1 endp15 endp19 endp22 wait2 endp34 wait1 p10 p29 wait1 endp10 wait3 p10 p14 p17 p20 wait1 endp10 endp14 endp17 endp20 endp29 wait1 p31 wait1 endp31 wait1 p10 p29 wait1 endp10 wait2 endp29 wait1 p10 p14 p17 p20 p31 wait1 endp10 endp14 endp17 endp20 endp31 wait1 p32 wait1 endp32 wait1 p15 p34 wait1 endp15 wait2 endp34 wait1 p15 p19 p22 p31 wait1 endp15 endp19 endp22 endp31 wait1 p32</td>\n",
              "    </tr>\n",
              "    <tr>\n",
              "      <td>4</td>\n",
              "      <td>p22 p25 p34 wait2 p14 endp14 wait1 endp22 endp25 endp34 wait1 p9 endp9 p18 endp18 p21 endp21 p24 endp24 p33 endp33 wait2 p14 endp14 wait2 p9 endp9 p14 endp14 p18 endp18 p24 endp24 p26 endp26 wait2 p14 endp14 wait2 p9 endp9 p18 endp18 p24 endp24 p26 endp26 p33 endp33 wait2 p14 endp14 wait2 p9 endp9 p14 endp14 p18 endp18 p24 endp24 p26 endp26 wait2 p14 endp14 wait2 p9 endp9 p18</td>\n",
              "    </tr>\n",
              "  </tbody>\n",
              "</table>"
            ],
            "text/plain": [
              "<IPython.core.display.HTML object>"
            ]
          },
          "metadata": {
            "tags": []
          }
        }
      ]
    },
    {
      "cell_type": "code",
      "metadata": {
        "colab_type": "code",
        "id": "L50ZIVz0VvRY",
        "colab": {}
      },
      "source": [
        "learner_notewise = language_model_learner(notewise_databunch, arch=AWD_LSTM , config=config)"
      ],
      "execution_count": 0,
      "outputs": []
    },
    {
      "cell_type": "code",
      "metadata": {
        "colab_type": "code",
        "outputId": "7324a0b8-841b-48ff-ca59-2691466f249d",
        "id": "MpX2bIMdVvRd",
        "colab": {
          "base_uri": "https://localhost:8080/",
          "height": 297
        }
      },
      "source": [
        "# find best lr and show plot\n",
        "learner_notewise.lr_find()\n",
        "learner_notewise.recorder.plot()"
      ],
      "execution_count": 89,
      "outputs": [
        {
          "output_type": "display_data",
          "data": {
            "text/html": [
              ""
            ],
            "text/plain": [
              "<IPython.core.display.HTML object>"
            ]
          },
          "metadata": {
            "tags": []
          }
        },
        {
          "output_type": "stream",
          "text": [
            "LR Finder is complete, type {learner_name}.recorder.plot() to see the graph.\n"
          ],
          "name": "stdout"
        },
        {
          "output_type": "display_data",
          "data": {
            "image/png": "[encoded data removed]",
            "text/plain": [
              "<Figure size 432x288 with 1 Axes>"
            ]
          },
          "metadata": {
            "tags": [],
            "image/png": {
              "width": 393,
              "height": 263
            }
          }
        }
      ]
    },
    {
      "cell_type": "code",
      "metadata": {
        "colab_type": "code",
        "outputId": "16461115-3e70-45cc-ed6b-488886f26011",
        "id": "BmdlP3BsVvRj",
        "colab": {
          "base_uri": "https://localhost:8080/",
          "height": 81
        }
      },
      "source": [
        "# run training\n",
        "# See https://docs.fast.ai/callbacks.one_cycle.html#What-is-1cycle?\n",
        "# https://forums.fast.ai/t/why-do-we-need-to-unfreeze-the-learner-everytime-before-retarining-even-if-learn-fit-one-cycle-works-fine-without-learn-unfreeze/41614/5\n",
        "learner_notewise.fit_one_cycle(1, 1e-01)"
      ],
      "execution_count": 91,
      "outputs": [
        {
          "output_type": "display_data",
          "data": {
            "text/html": [
              "<table border=\"1\" class=\"dataframe\">\n",
              "  <thead>\n",
              "    <tr style=\"text-align: left;\">\n",
              "      <th>epoch</th>\n",
              "      <th>train_loss</th>\n",
              "      <th>valid_loss</th>\n",
              "      <th>accuracy</th>\n",
              "      <th>time</th>\n",
              "    </tr>\n",
              "  </thead>\n",
              "  <tbody>\n",
              "    <tr>\n",
              "      <td>0</td>\n",
              "      <td>2.045557</td>\n",
              "      <td>1.684096</td>\n",
              "      <td>0.546817</td>\n",
              "      <td>15:14</td>\n",
              "    </tr>\n",
              "  </tbody>\n",
              "</table>"
            ],
            "text/plain": [
              "<IPython.core.display.HTML object>"
            ]
          },
          "metadata": {
            "tags": []
          }
        }
      ]
    },
    {
      "cell_type": "code",
      "metadata": {
        "colab_type": "code",
        "outputId": "c3e0eeab-dc7e-4cec-ebf2-7b922a383b4f",
        "id": "ZUdU9NzeVvRp",
        "colab": {
          "base_uri": "https://localhost:8080/",
          "height": 81
        }
      },
      "source": [
        "learner_notewise.fit_one_cycle(1, 1e-01)"
      ],
      "execution_count": 92,
      "outputs": [
        {
          "output_type": "display_data",
          "data": {
            "text/html": [
              "<table border=\"1\" class=\"dataframe\">\n",
              "  <thead>\n",
              "    <tr style=\"text-align: left;\">\n",
              "      <th>epoch</th>\n",
              "      <th>train_loss</th>\n",
              "      <th>valid_loss</th>\n",
              "      <th>accuracy</th>\n",
              "      <th>time</th>\n",
              "    </tr>\n",
              "  </thead>\n",
              "  <tbody>\n",
              "    <tr>\n",
              "      <td>0</td>\n",
              "      <td>2.078626</td>\n",
              "      <td>1.676736</td>\n",
              "      <td>0.548770</td>\n",
              "      <td>15:15</td>\n",
              "    </tr>\n",
              "  </tbody>\n",
              "</table>"
            ],
            "text/plain": [
              "<IPython.core.display.HTML object>"
            ]
          },
          "metadata": {
            "tags": []
          }
        }
      ]
    },
    {
      "cell_type": "code",
      "metadata": {
        "id": "RVT-iixcj4O3",
        "colab_type": "code",
        "colab": {
          "base_uri": "https://localhost:8080/",
          "height": 95
        },
        "outputId": "2f1b4ef8-4b7b-4584-af24-f99ebe3db66d"
      },
      "source": [
        "learner_notewise.unfreeze()\n",
        "learner_notewise.fit_one_cycle(1, 1e-01)"
      ],
      "execution_count": 0,
      "outputs": [
        {
          "output_type": "display_data",
          "data": {
            "text/html": [
              "\n",
              "    <div>\n",
              "        <style>\n",
              "            /* Turns off some styling */\n",
              "            progress {\n",
              "                /* gets rid of default border in Firefox and Opera. */\n",
              "                border: none;\n",
              "                /* Needs to be in here for Safari polyfill so background images work as expected. */\n",
              "                background-size: auto;\n",
              "            }\n",
              "            .progress-bar-interrupted, .progress-bar-interrupted::-webkit-progress-bar {\n",
              "                background: #F44336;\n",
              "            }\n",
              "        </style>\n",
              "      <progress value='0' class='' max='1', style='width:300px; height:20px; vertical-align: middle;'></progress>\n",
              "      0.00% [0/1 00:00<00:00]\n",
              "    </div>\n",
              "    \n",
              "<table border=\"1\" class=\"dataframe\">\n",
              "  <thead>\n",
              "    <tr style=\"text-align: left;\">\n",
              "      <th>epoch</th>\n",
              "      <th>train_loss</th>\n",
              "      <th>valid_loss</th>\n",
              "      <th>accuracy</th>\n",
              "      <th>time</th>\n",
              "    </tr>\n",
              "  </thead>\n",
              "  <tbody>\n",
              "  </tbody>\n",
              "</table><p>\n",
              "\n",
              "    <div>\n",
              "        <style>\n",
              "            /* Turns off some styling */\n",
              "            progress {\n",
              "                /* gets rid of default border in Firefox and Opera. */\n",
              "                border: none;\n",
              "                /* Needs to be in here for Safari polyfill so background images work as expected. */\n",
              "                background-size: auto;\n",
              "            }\n",
              "            .progress-bar-interrupted, .progress-bar-interrupted::-webkit-progress-bar {\n",
              "                background: #F44336;\n",
              "            }\n",
              "        </style>\n",
              "      <progress value='405' class='' max='2941', style='width:300px; height:20px; vertical-align: middle;'></progress>\n",
              "      13.77% [405/2941 02:37<16:25 1.4139]\n",
              "    </div>\n",
              "    "
            ],
            "text/plain": [
              "<IPython.core.display.HTML object>"
            ]
          },
          "metadata": {
            "tags": []
          }
        }
      ]
    },
    {
      "cell_type": "code",
      "metadata": {
        "id": "jK16bNgRjIga",
        "colab_type": "code",
        "colab": {}
      },
      "source": [
        "fname = \"notewise_model_v1\""
      ],
      "execution_count": 0,
      "outputs": []
    },
    {
      "cell_type": "code",
      "metadata": {
        "colab_type": "code",
        "id": "hpSxxqd_VvRx",
        "colab": {}
      },
      "source": [
        "# generate a sequence\n",
        "gen = learner_notewise.predict(text=\"wait1\", n_words=800, temperature=0.8)\n",
        "stream = decode_notewise_string(gen)\n",
        "decoded_notes_file = stream.write('midi', f'{fname}_3.mid')"
      ],
      "execution_count": 0,
      "outputs": []
    },
    {
      "cell_type": "code",
      "metadata": {
        "colab_type": "code",
        "id": "hNNbQnh1VvR9",
        "colab": {
          "base_uri": "https://localhost:8080/",
          "height": 54
        },
        "outputId": "1f400a0d-c7db-4344-e586-9aac72ae83d1"
      },
      "source": [
        "gen"
      ],
      "execution_count": 97,
      "outputs": [
        {
          "output_type": "execute_result",
          "data": {
            "text/plain": [
              "'wait1 p21 endp21 p23 endp23 wait1 p21 p24 p26 wait1 endp24 wait1 p9 p12 p16 p19 p28 wait2 p28 endp28 wait1 p31 wait1 endp31 wait1 p31 wait1 endp31 wait1 p28 wait1 endp28 wait1 p28 wait1 endp28 wait1 p30 wait1 endp30 wait1 p33 wait1 endp33 wait1 p33 endp33 wait1 p28 wait1 endp28 wait1 p26 p30 wait1 endp26 wait1 p28 wait2 p28 wait1 endp28 wait1 p26 wait5 endp26 wait1 p28 wait1 endp28 wait1 p25 p33 wait3 endp5 endp9 endp12 endp16 endp25 endp28 wait1 p14 p26 wait1 endp26 wait1 p23 wait1 endp23 wait1 p26 wait1 endp26 wait1 p7 p11 p14 p23 p23 endp23 wait1 p29 wait1 endp29 wait1 p14 endp14 wait1 p28 p31 endp31 wait1 p9 p13 p16 p20 p33 wait1 endp9 endp13 endp16 endp20 wait1 p28 endp28 wait1 p15 endp15 wait1 p7 p10 p14 p19 p22 wait1 endp22 wait1 p14 p20 wait1 endp12 endp15 wait1 p9 p12 p15 p18 p29 wait5 endp29 wait1 p26 wait1 endp26 wait1 p26 wait1 endp26 wait1 p24 wait1 endp24 wait1 p26 wait1 endp26 wait1 p28 wait1 endp28 wait1 p12 p15 p19 p22 wait1 p31 wait1 endp19 endp31 wait1 p14 wait1 p19 wait1 endp19 wait1 p21 wait1 endp21 wait1 p2 p22 wait1 endp22 wait1 p26 wait1 endp26 wait1 p21 wait1 endp21 wait1 p26 wait1 endp26 wait1 p2 p7 p11 p14 p31 wait1 endp31 wait1 p26 wait1 endp26 wait1 p26 wait1 endp26 wait1 p26 wait1 endp26 wait1 p28 wait1 endp28 wait1 p26 wait1 endp26 wait1 p26 wait1 endp26 wait1 p26 wait1 endp26 wait1 p31 wait1 endp31 wait1 p31 wait1 endp31 wait1 p26 wait1 endp26 wait1 p14 p26 wait1 endp26 wait1 p26 wait1 endp26 wait1 p23 wait1 endp23 wait1 p28 wait1 endp28 wait1 p26 wait1 endp26 wait1 p26 wait1 endp26 wait1 p24 wait1 endp24 wait1 p26 wait1 endp26 wait1 p24 wait1 endp24 wait1 p26 wait3 endp26 wait1 p26 endp26 wait1 p26 endp26 wait1 p28 wait1 endp28 wait1 p29 wait1 endp29 wait1 p26 wait1 endp26 wait1 p24 endp24 wait1 p26 wait1 endp26 wait1 p26 wait1 endp26 wait1 p24 wait1 endp24 wait1 p26 endp26 wait1 p28 wait1 endp28 wait1 p26 wait1 endp26 wait1 p23 wait1 endp23 wait1 p26 wait1 endp26 wait1 p26 wait1 endp26 wait1 p26 endp26 wait1 p24 wait1 endp24 wait1 p26 wait1 endp26 wait1 p26 wait1 endp26 wait1 p23 wait1 endp23 wait1 p23 endp23 wait1 p26 endp26 wait3 p14 p26 endp26 wait1 p26 wait1 endp26 wait1 p28 wait1 endp28 wait1 p26 wait1 endp26 wait1 p24 wait1 endp24 wait1 p26 wait1 endp26 wait1 p28 wait3 endp28 wait1 p26 wait1 endp26 wait1 p26 wait1 endp26 wait1 p26 wait1 endp26 wait1 p23 wait1 endp23 wait1 p26 wait1 endp26 wait1 p33 wait1 endp33 wait1 p31 wait1 endp31 wait1 p26 wait1 endp26 wait1 p28 wait1 endp28 wait1 p26 wait3 endp26 wait1 p24 wait1 endp24 wait1 p26 wait1 endp26 wait1 p26 wait1 endp26 wait1 p32 wait1 endp32 wait1 p26 wait1 endp26 wait1 p28 wait1 endp28 wait1 p26 wait1 endp26 wait1 p26 wait1 endp26 wait1 p28 wait1 endp28 wait1 p26 p31 wait1 endp26 wait1 p29 wait1 endp29 wait1 p26 wait1 endp26 wait1 p28 wait1 endp28 wait1 p26 wait1 endp26 wait1 p26 wait1 endp26 wait1 p26 wait1 endp26 wait1 p28 wait1 endp28 wait1 p26 wait1 endp26 wait1 p23 wait1 endp23 wait1 p26 wait1 endp26 wait1 p26 wait1 endp26 wait1 p28 wait1 endp28 wait1 p31 wait1 endp31 wait1 p26 wait1 endp26 wait1 p24 wait1 endp24 wait1 p25 wait1 endp25 wait1 p26 wait1 endp26 wait1 p28 wait1 endp28 wait1 p26 wait1 endp26 wait1 p26 wait3 endp26 wait1 p26 wait1 endp26 wait1 p26 wait1 endp26 wait1 p23 wait1 endp23 wait1 p26 wait1 endp26 wait1 p26 wait1 endp26 wait1 p28 wait1 endp28 wait1 p26 wait1 endp26 wait1 p7 p11 p14 p30 wait1 endp30 wait1 p29 wait1 endp29 wait1 p19 wait1 endp19 wait1 p7 p10 p14 p19 p22 p26 wait1 endp26 wait1 p24 wait3 endp24 wait1 p26 wait1 endp26 wait1 p11 p15 p19 p26 wait1 endp26 wait1 p23 wait1 endp23 wait1 p19 wait1 endp19 wait1 p14 p26 wait1 endp26 wait1 p24 wait1 endp24 wait1 p26 wait1 endp26 wait1 p24 wait1 endp24 wait1 p26 wait1 endp26 wait1 p28 wait1 endp28 wait1 p26 wait1 endp26 wait1 p31 wait1 endp31 wait1 p26 wait1 endp26 wait1 p26 wait1 endp26 wait1 p28 wait1 endp28 wait1 p26 wait1 endp26 wait1 p28 wait1 endp28 wait1 p26 wait1 endp26 wait1 p28 wait1 endp28 wait1 p26 wait1 endp26 wait1 p26 wait1 endp26 endp29 wait1 p26 wait1 endp26 wait1 p23 wait1 endp23 wait1 p23 wait1 endp23 wait1 p25 wait1 endp25 wait1 p26 wait1 endp26 wait1 p23 wait1 endp23 wait1 p28 wait1 endp28 wait1 p26 wait1 endp26 wait1 p24 wait1 endp24 wait1 p26 wait3 endp26 wait1 p28 wait1 endp28 wait1 p26 wait1 endp26 wait1 p25 wait1 endp25 wait1 p23 wait1 endp23 wait1 p26 wait1 endp26 wait1 p23 wait1 endp23 wait1 p26 wait1 endp26 wait1 p26 wait1 endp26 wait1 p23 wait1 endp23 wait1 p25 wait1 endp25 wait1 p26 wait1 endp26 wait1 p28 wait1 endp28 wait1 p26'"
            ]
          },
          "metadata": {
            "tags": []
          },
          "execution_count": 97
        }
      ]
    },
    {
      "cell_type": "code",
      "metadata": {
        "colab_type": "code",
        "id": "bJc_792qVvSC",
        "colab": {}
      },
      "source": [
        "learner_notewise = LanguageLearner.load(f\"/content/{fname}\")"
      ],
      "execution_count": 0,
      "outputs": []
    },
    {
      "cell_type": "code",
      "metadata": {
        "colab_type": "code",
        "id": "syLbUEiIVvSI",
        "colab": {}
      },
      "source": [
        "# # save learned model\n",
        "desc = f\"notewise, merged datasets, 2 epochs, 0.689880 acc, n_hid=1152(default), 3 layers (default), pretrained weights: True (default), dropout_mult=1.0(default)\"\n",
        "desc += f\"\\nepoch     lr         acc         weights\"\n",
        "desc += f\"\\n1         1e-01      0.430032    frozen\"\n",
        "desc += f\"\\n2         1e-03      0.647082    unfrozen\"\n",
        "# desc += f\"\\n3         1e-03      0.673698    unfrozen\"\n",
        "# desc += f\"\\n4         1e-03      0.675347    frozen\"\n",
        "# desc += f\"\\n5         1e-02      0.687846    unfrozen\"\n",
        "# desc += f\"\\n6         1e-02      0.689880    frozen\"\n",
        "# # desc += f\"\\n7         1e-03      0.746206    unfrozen\"\n",
        "# # desc += f\"\\n8         1e-03      0.747563    unfrozen\"\n",
        "# # desc += f\"\\n9         1e-03      0.748488    frozen\"\n",
        "\n",
        "learner_chordwise.save(f\"/content/{fname}\")\n",
        "\n",
        "with open(f\"{fname}.txt\", \"w\") as f:\n",
        "    f.write(desc)\n",
        "    \n",
        "# from google.colab import files\n",
        "# files.download(f\"/content/{fname}.txt\")\n",
        "# files.download(f\"/content/{fname}.pth\")"
      ],
      "execution_count": 0,
      "outputs": []
    }
  ]
}